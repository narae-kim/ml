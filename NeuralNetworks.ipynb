{
 "cells": [
  {
   "cell_type": "markdown",
   "metadata": {},
   "source": [
    "# Neural Networks Implementation\n",
    "It consists of five parts; 1. Implement Logistic Regression, 2. Easy Tasks, 3. Implement and Test a Shallow Neural Network, 4. Challenging Task, 5. Deep Learning Enhancements."
   ]
  },
  {
   "cell_type": "code",
   "execution_count": 1,
   "metadata": {},
   "outputs": [],
   "source": [
    "# Package imports\n",
    "import pandas as pd\n",
    "import numpy as np\n",
    "import math\n",
    "from sklearn.model_selection import train_test_split\n",
    "from matplotlib import pyplot as plt\n",
    "\n",
    "# Display plots inline and change default figure size\n",
    "%matplotlib inline"
   ]
  },
  {
   "cell_type": "markdown",
   "metadata": {},
   "source": [
    "## Part 1: Implement Logistic Regression"
   ]
  },
  {
   "cell_type": "markdown",
   "metadata": {},
   "source": [
    "Logistic Regression is to find the linear dividing line between two classes, e.g. 0 and 1. Thus, the goal of logistic regression is to find suitable values for `w` and `b` to predict output values as close to the actual values as possible in the straigh line of `z(X) = w . X + b` during training."
   ]
  },
  {
   "cell_type": "markdown",
   "metadata": {},
   "source": [
    "In this implementation of logistic regression based on lecture 2, I apply *Sigmoid* function as an activation function to convert straight line equation into 0 or 1 values for classifier in the function `sigmoid`. The `sigmoid` function returns outputs between 0 and 1 and is written as `f(z)`.\n",
    "\n",
    "        f(z) = 1 / (1 + e^-z)  where the linear regression formula, z_(w,b)(x) = w . x + b\n",
    "\n",
    "The estimated output `y_hat` is then calculated by the activation function to find the probability that the actual output `y` is 1, given a set of input `X`: `y_hat = P(y=1|X;w,b)`\n",
    "\n",
    "        y_hat = a_(w,b)(X) = f(w . X + b)"
   ]
  },
  {
   "cell_type": "code",
   "execution_count": 2,
   "metadata": {},
   "outputs": [],
   "source": [
    "# Sigmoid Function as Activation Function for Logistic Regression\n",
    "# Numpy document (cheat sheet): https://numpy.org/doc/stable/user/quickstart.html\n",
    "def sigmoid(z):\n",
    "    return 1 / (1 + np.exp(-z))"
   ]
  },
  {
   "cell_type": "markdown",
   "metadata": {},
   "source": [
    "To find values for `w` and `b`, a loss function `L()` and a cost function `J()` need to be defined. In here, I apply *Gradient Descent* optimisation algorithm to search for weights `w` and bias `b` that **minimise** the cost for a given training set since `y_hat` tends to the correct value when `J()` tends to 0.\n",
    "\n",
    "        min_(w,b) J(w,b)\n",
    "\n",
    "Thus, we can get a *Log Loss* for a single case of `Xi` and `yi`. As we are dealing with a single case each iteration, it is called Stochastic Gradient Descent which is implemented in `stochastic_cost_function` and the cost function is written as follows.\n",
    "\n",
    "        J(w,b) = - (yi * log(yi_hat) + (1 - yi) * log(1 - yi_hat))\n",
    "\n",
    "In practice, I added a small number `epsilon` to `log()` function when the log input is zero to prevent runtime errors but also the epsilon does not make any significant effect on the cost function value as mentioned during the classes."
   ]
  },
  {
   "cell_type": "code",
   "execution_count": 3,
   "metadata": {},
   "outputs": [],
   "source": [
    "def stochastic_cost_function(y, y_hat):\n",
    "    if y_hat == 0 or y_hat ==1:\n",
    "        epsilon = 1 * math.exp(-6)  # idea from discussion board\n",
    "        return -1 * (y * math.log(y_hat + epsilon) + (1 - y) * math.log(1 - y_hat + epsilon))\n",
    "    else:\n",
    "        return -1 * (y * math.log(y_hat) + (1 - y) * math.log(1 - y_hat))"
   ]
  },
  {
   "cell_type": "markdown",
   "metadata": {},
   "source": [
    "Also, the partial derivatives for Stochastic Gradient Descent are as follows.\n",
    "    \n",
    "        delta_wj = (yi_hat - yi) * xji\n",
    "        delta_b = yi_hat - yi"
   ]
  },
  {
   "cell_type": "markdown",
   "metadata": {},
   "source": [
    "So, to find the minimum cost function we take incremental steps 'downhill' with step size controlled by learning rate `alpha` to calculate the cost function until there is little, i.e. less than the threshold, or no change between the current value and the previous value. In other words, when the difference between the current value and the previous value of the cost function is less than the threshold, break out of the iteration loop."
   ]
  },
  {
   "cell_type": "markdown",
   "metadata": {},
   "source": [
    "### Brief Description of Algorithm (Stochastic Gradient Descent)\n",
    "***accuracy***\n",
    "* Calculate the proportion of the correct prediction\n",
    "\n",
    "**MyLogisticRegression.*fit***\n",
    "* Set values for `alpha`, `max_iterations`, `threshold`\n",
    "    * `max_iterations` to 10 times of the size of the input `X`\n",
    "* Initialise `w`, `b` to a set of small random numbers (`w` is same size as `Xi`)\n",
    "* Loop max number of iterations:\n",
    "    * Select a single example `{Xi, yi}` from training set at random\n",
    "    * FORWARD PROPAGATION STAGE\n",
    "        * Calculate `y_hat` with `sigmoid` function from `Xi`, `w`, `b`\n",
    "        * Calculate `J_curr` with `stochastic_cost_function` from `y` and `y_hat`\n",
    "        * Compare `J_curr` with `J_prev`: break from loop if convergence is reached as described above\n",
    "    * GRADIENT DESCENT STAGE\n",
    "        * Loop over the *j* elements of `w`: Calculate `delta_b`, Calculate `delta_wj` as shown above\n",
    "        * Loop again over the *j* elements of `w`: `wj -= alpha * delta_wj`, `b -= alpha * delta_b`\n",
    "\n",
    "**MyLogisticRegression.*predict***\n",
    "* Apply weights `w` and bias `b` to input `X` and get `y_hat` by `sigmoid` function\n",
    "* Make a prediction by checking whether the probability is greater than 0.5 that the actual output `y` is 1 given a set of input `X`.\n",
    "\n",
    "**MyLogisticRegression.*find_learning_rate***\n",
    "* Loop for each candidate `alpha` value:\n",
    "    * Fit the model\n",
    "    * Predict the output\n",
    "* Compare the accuracies on the list of `alpha`s to find the highest accuracy\n",
    "* If the highest accuracy occurs in more than one element, get the smaller iteration numbers taken"
   ]
  },
  {
   "cell_type": "code",
   "execution_count": 4,
   "metadata": {},
   "outputs": [],
   "source": [
    "def accuracy(y, y_predict):\n",
    "    return (1.0 - np.sum(y!=y_predict) / len(y)) * 100"
   ]
  },
  {
   "cell_type": "code",
   "execution_count": 5,
   "metadata": {},
   "outputs": [],
   "source": [
    "class MyLogisticRegression:\n",
    "    def fit(self, X, y, alpha=0.01, return_iteration=False, return_cost=False):\n",
    "        # initialisation\n",
    "        max_iterations = 10 * len(X)\n",
    "        threshold = 1 * math.exp(-8)\n",
    "        # set random w and b\n",
    "        X_shape = X.shape\n",
    "        w = np.random.normal(0, 0.01, size=X_shape[1])\n",
    "        b = np.random.normal(0, 0.01, size=1)[0]\n",
    "        # Loop for max iterations\n",
    "        iteration = 0\n",
    "        J_curr = None\n",
    "        J_iterations = []\n",
    "        while iteration < max_iterations:\n",
    "            # single example from training set selected at random\n",
    "            X_copy = X.copy()\n",
    "            y_copy = y.copy()\n",
    "            # select a random row of X and y\n",
    "            random_indice = np.random.choice(X_copy.shape[0], size=1, replace=False)\n",
    "            Xi = X_copy[random_indice, :][0]\n",
    "            yi = y_copy[random_indice][0]\n",
    "            # Forward propagation stage\n",
    "            yi_hat = sigmoid(Xi.dot(w) + b)\n",
    "            if iteration > 1:\n",
    "                J_prev = J_curr\n",
    "            J_curr = stochastic_cost_function(yi, yi_hat)\n",
    "            J_iterations.append(J_curr)\n",
    "            # check convergence\n",
    "            if iteration > 1 and abs(J_curr - J_prev) < threshold:\n",
    "                break # finish entire process ...\n",
    "            # Gradient Descent stage\n",
    "            # loop over the j elements of w: delta_wj, delta_b\n",
    "            delta_b = yi_hat - yi\n",
    "            delta_w = []\n",
    "            for xji in Xi.T:  # column iteration\n",
    "                delta_wj = delta_b * xji\n",
    "                delta_w.append(delta_wj)\n",
    "            # loop again over the j elements of w: wj -= alpha * delta_wj, b -+ alpha * delta_b\n",
    "            w -= alpha * np.array(delta_w) # numpy with list to multiply by scalar\n",
    "            b -= alpha * delta_b\n",
    "            iteration += 1\n",
    "        if return_iteration and return_cost:\n",
    "            return w, b, iteration, J_iterations\n",
    "        elif return_iteration:\n",
    "            return w, b, iteration\n",
    "        elif return_cost:\n",
    "            return w, b, J_iterations\n",
    "        else:\n",
    "            return w, b\n",
    "\n",
    "    def predict(self, X, w, b):\n",
    "        # predict y, y_hat, f(w.x+b) = 1 / (1+e^-(w.x+b))\n",
    "        y_hat = sigmoid(X.dot(w) + b)\n",
    "        y_predict = [(lambda i: 0 if i < 0.5 else 1)(i) for i in y_hat] # 0 if y_hat < 0.5 else 1\n",
    "        return y_predict\n",
    "\n",
    "    def find_learning_rate(self, X, y, X_validation, y_validation):\n",
    "        alphas = [0.001, 0.003, 0.005, 0.01, 0.03, 0.05, 0.1]\n",
    "        accuracy_for_alphas = []\n",
    "        iteration_for_alphas = []\n",
    "        for alpha in alphas:\n",
    "            w, b, iteration = self.fit(X, y, alpha, return_iteration=True)\n",
    "            y_predict = self.predict(X_validation, w, b)\n",
    "            prediction_accuracy = accuracy(y_validation, y_predict)\n",
    "            accuracy_for_alphas.append(prediction_accuracy)\n",
    "            iteration_for_alphas.append(iteration)\n",
    "        max_accuracy_indices = np.argwhere(accuracy_for_alphas == np.amax(accuracy_for_alphas)) # find index of max\n",
    "        max_accuracy_indices = np.reshape(max_accuracy_indices, len(max_accuracy_indices))  # double list to flat list\n",
    "        max_accuracy_indices = max_accuracy_indices.tolist()  # numpy to list\n",
    "        iteration_for_alphas = np.array(iteration_for_alphas)  # get elements by index list\n",
    "        min_iteration_indices = np.argwhere(iteration_for_alphas == np.amin(list(np.array(iteration_for_alphas[max_accuracy_indices]))))  # get elements by index list\n",
    "        return alphas[min_iteration_indices[0][0]]"
   ]
  },
  {
   "cell_type": "markdown",
   "metadata": {},
   "source": [
    "## Part 2: Easy Tasks"
   ]
  },
  {
   "cell_type": "markdown",
   "metadata": {},
   "source": [
    "Firstly, we will test Logistic Regression code (Part 1) with the dataset \"blobs250.csv\". \n",
    "\n",
    "The *blobs250* dataset has total of 250 training cases and 3 attributes, i.e. 'X0', 'X1', and 'X2', in `X_blobs250`. Also, the target `y_blobs250` has total of 250 cases and 1 attribute, i.e. 'Class'."
   ]
  },
  {
   "cell_type": "code",
   "execution_count": 6,
   "metadata": {},
   "outputs": [
    {
     "name": "stdout",
     "output_type": "stream",
     "text": [
      "Blobs 250 X: nsamples = 250 , nattribs = 3\n",
      "Blobs 250 y transpose: nsamples = 250 , nattribs = 1\n"
     ]
    }
   ],
   "source": [
    "df_blobs250 = pd.read_csv(\"blobs250.csv\")\n",
    "\n",
    "# The y values are those labelled 'Class': extract their values\n",
    "y_blobs250 = df_blobs250['Class'].values\n",
    "\n",
    "# The x values are all other columns\n",
    "del df_blobs250['Class']   # drop the 'Class' column from the dataframe\n",
    "X_blobs250 = df_blobs250.values     # convert the remaining columns to a numpy array\n",
    "\n",
    "# np.shape returns all dimensions of the array\n",
    "(nsamples, nattribs) = np.shape(X_blobs250)\n",
    "print (\"Blobs 250 X: nsamples =\", nsamples, \", nattribs =\", nattribs)\n",
    "\n",
    "# You can transpose the y data using 'reshape'\n",
    "yt_blobs250 = np.reshape(y_blobs250, (len(y_blobs250),1))  \n",
    "(nsamples, nattribs) = np.shape(yt_blobs250)\n",
    "print (\"Blobs 250 y transpose: nsamples =\", nsamples, \", nattribs =\", nattribs)"
   ]
  },
  {
   "cell_type": "markdown",
   "metadata": {},
   "source": [
    "Although this graph shows only 2D for the first two attributes on `X_blobs250`, this dataset is linearly separable. Therefore, I would expect to find a dividing line to separate two classes perfectly."
   ]
  },
  {
   "cell_type": "code",
   "execution_count": 7,
   "metadata": {},
   "outputs": [
    {
     "data": {
      "text/plain": [
       "<matplotlib.collections.PathCollection at 0x26d2003ed88>"
      ]
     },
     "execution_count": 7,
     "metadata": {},
     "output_type": "execute_result"
    },
    {
     "data": {
      "image/png": "[encoded data removed]",
      "text/plain": [
       "<Figure size 432x288 with 1 Axes>"
      ]
     },
     "metadata": {
      "needs_background": "light"
     },
     "output_type": "display_data"
    }
   ],
   "source": [
    "# plot X[0] vs X[1] and colour points according to the class, y\n",
    "plt.scatter(X_blobs250[:,0], X_blobs250[:,1], c=y_blobs250)  "
   ]
  },
  {
   "cell_type": "markdown",
   "metadata": {},
   "source": [
    "In order to find the best model for the dataset, i.e. weights `w` and bias `b`, we divide each dataset randomly into training set (70%), validation set (15%), and testing set (15%).\n",
    "\n",
    "To do so, I imported a method `from sklearn.model_selection import train_test_split`. First of all, I separate 70% of the dataset for main training, `X_blobs250_train` and `y_blobs250_train`. Then, separate the rest of them in half so that 15% each for tuning, `X_blobs250_validation` and `y_blobs250_validation`, and for final performance evaluation, `X_blobs250_test` and `y_blobs250_test`, according to the total dataset."
   ]
  },
  {
   "cell_type": "code",
   "execution_count": 8,
   "metadata": {},
   "outputs": [],
   "source": [
    "# https://scikit-learn.org/stable/modules/generated/sklearn.model_selection.train_test_split.html\n",
    "X_blobs250_train, X_rest, y_blobs250_train, y_rest = train_test_split(X_blobs250, y_blobs250, test_size=0.3)\n",
    "X_blobs250_validation, X_blobs250_test, y_blobs250_validation, y_blobs250_test = train_test_split(X_rest, y_rest, test_size=0.5)"
   ]
  },
  {
   "cell_type": "markdown",
   "metadata": {},
   "source": [
    "Before training a model, I apply Z-Normalisation to the dataset to achieve better results. The idea of Z-Normalisation is finding the mean `X_mean` and the standard deviation `X_std` values **from the training dataset** `X` and applying the values to training, validation, and testing datasets separately as a Normal distribution. So each dataset is transformed by `(dataset - X_mean) / X_std`. Note that Z-Normalisation only applys to `X` but not to the target `y`."
   ]
  },
  {
   "cell_type": "markdown",
   "metadata": {},
   "source": [
    "### Brief Description of Algorithm (Z-Normalisation)\n",
    "**ZNormalisation.*find***\n",
    "* Calculate the mean `X_mean` and the standard deviation `X_std` from the input `X`\n",
    "* Return `X_mean` and `X_std`\n",
    "\n",
    "**ZNormalisation.*apply***\n",
    "* Apply Z-normalisation with the input mean `X_mean` and the input standard deviation `X_std` to the input dataset `X`"
   ]
  },
  {
   "cell_type": "code",
   "execution_count": 9,
   "metadata": {},
   "outputs": [],
   "source": [
    "class ZNormalisation:\n",
    "    def find(self, X):\n",
    "        X_mean = np.mean(X)\n",
    "        X_std = np.std(X)\n",
    "        return X_mean, X_std\n",
    "\n",
    "    def apply(self, X, X_mean, X_std):\n",
    "        return (X - X_mean) / X_std"
   ]
  },
  {
   "cell_type": "code",
   "execution_count": 10,
   "metadata": {},
   "outputs": [],
   "source": [
    "# Z-normalisation for training and testing data\n",
    "znormal = ZNormalisation()\n",
    "\n",
    "# find mean and std from training data\n",
    "X_blobs250_mean, X_blobs250_std = znormal.find(X_blobs250_train)\n",
    "\n",
    "# apply normalisation by the mean and the std to training, validation and testing data\n",
    "normalised_X_blobs250_train = znormal.apply(X_blobs250_train, X_blobs250_mean, X_blobs250_std)\n",
    "normalised_X_blobs250_validation = znormal.apply(X_blobs250_validation, X_blobs250_mean, X_blobs250_std)\n",
    "normalised_X_blobs250_test = znormal.apply(X_blobs250_test, X_blobs250_mean, X_blobs250_std)"
   ]
  },
  {
   "cell_type": "markdown",
   "metadata": {},
   "source": [
    "We will use the training dataset and the validation dataset to find the best learning rate, `alpha`. The function `MyLogisticRegression.find_learning_rate` will train Logistic Regression model with the training dataset and a different `alpha` value and compare the accuracies of the models with the `alpha`s by validation dataset. The best `alpha` is then from the highest accuracy result (and the smaller number of iterations if there are many `alpha`s for the highest accuracy)."
   ]
  },
  {
   "cell_type": "code",
   "execution_count": 11,
   "metadata": {},
   "outputs": [
    {
     "name": "stdout",
     "output_type": "stream",
     "text": [
      "Blobs 250 LR alpha: 0.01\n"
     ]
    }
   ],
   "source": [
    "lr = MyLogisticRegression()\n",
    "\n",
    "# find the best learning rate from training and validation\n",
    "alpha_blobs250 = lr.find_learning_rate(normalised_X_blobs250_train, y_blobs250_train, normalised_X_blobs250_validation, y_blobs250_validation)\n",
    "print(\"Blobs 250 LR alpha:\", alpha_blobs250)"
   ]
  },
  {
   "cell_type": "markdown",
   "metadata": {},
   "source": [
    "Now with the best alpha for the dataset, `alpha_blobs250`, we fit a logistic regression model to find weights `w` and bias `b`. \n",
    "\n",
    "The results of the cost function over iterations tends to 0 as shown in the graph. However, the graph can be noisy since we calculate a single case each iteration, aka Stochastic Gradient Descent. We will always get some that are high values, because these are the cases that are hard to classify, while the results should converge over time."
   ]
  },
  {
   "cell_type": "code",
   "execution_count": 12,
   "metadata": {},
   "outputs": [
    {
     "data": {
      "image/png": "[encoded data removed]",
      "text/plain": [
       "<Figure size 432x288 with 1 Axes>"
      ]
     },
     "metadata": {
      "needs_background": "light"
     },
     "output_type": "display_data"
    }
   ],
   "source": [
    "w_blobs250_train, b_blobs250_train, J_blobs250_interations = lr.fit(normalised_X_blobs250_train, y_blobs250_train, alpha_blobs250, return_cost=True)\n",
    "\n",
    "# print a plot for cost by iterations\n",
    "plt.plot(J_blobs250_interations)\n",
    "plt.show()"
   ]
  },
  {
   "cell_type": "markdown",
   "metadata": {},
   "source": [
    "The prediction results of the testing datasets with the weights `w_blobs250_train` and bias `b_blobs250_train` found by training dataset are shown below. \n",
    "As expected, the trained model found the straight line correctly to divide two classes, 0 and 1. Thus, we achieved 100% accurate results on the test set for *blobs250*."
   ]
  },
  {
   "cell_type": "code",
   "execution_count": 13,
   "metadata": {},
   "outputs": [
    {
     "name": "stdout",
     "output_type": "stream",
     "text": [
      "LR y_blobs250_estimate\n",
      " [0 0 0 1 0 1 0 0 1 1 1 0 1 1 0 0 1 0 0 1 0 1 0 0 0 0 0 0 0 0 1 0 1 0 0 0 0\n",
      " 1]\n",
      "LR y_blobs250_test\n",
      " [0 0 0 1 0 1 0 0 1 1 1 0 1 1 0 0 1 0 0 1 0 1 0 0 0 0 0 0 0 0 1 0 1 0 0 0 0\n",
      " 1]\n",
      "Blobs 250 LR Accuracy: 100.0\n"
     ]
    }
   ],
   "source": [
    "# compare the predicted outputs and the actual data\n",
    "y_blobs250_predict = lr.predict(normalised_X_blobs250_test , w_blobs250_train, b_blobs250_train)\n",
    "print(\"LR y_blobs250_estimate\\n\", np.array(y_blobs250_predict))\n",
    "print(\"LR y_blobs250_test\\n\", y_blobs250_test)\n",
    "\n",
    "accuracy_blobs250 = accuracy(y_blobs250_test, y_blobs250_predict)\n",
    "print(\"Blobs 250 LR Accuracy:\", accuracy_blobs250)"
   ]
  },
  {
   "cell_type": "markdown",
   "metadata": {},
   "source": [
    "Secondly, we will test Logistic Regression code with the dataset \"moons400.csv\". \n",
    "\n",
    "The *moons400* dataset has total of 400 training cases and 2 attributes, i.e. 'X0' and 'X1', in `X_moons400`. Also, the target `y_moons400` has total of 400 cases and 1 attribute, i.e. 'Class'."
   ]
  },
  {
   "cell_type": "code",
   "execution_count": 14,
   "metadata": {},
   "outputs": [
    {
     "name": "stdout",
     "output_type": "stream",
     "text": [
      "Moons 400 X: nsamples = 400 , nattribs = 2\n",
      "Moons 400 y transpose: nsamples = 400 , nattribs = 1\n"
     ]
    }
   ],
   "source": [
    "df_moons400 = pd.read_csv(\"moons400.csv\")\n",
    "\n",
    "# The y values are those labelled 'Class': extract their values\n",
    "y_moons400 = df_moons400['Class'].values\n",
    "\n",
    "# The x values are all other columns\n",
    "del df_moons400['Class']  # drop the 'Class' column from the dataframe\n",
    "X_moons400 = df_moons400.values  # convert the remaining columns to a numpy array\n",
    "\n",
    "# np.shape returns all dimensions of the array\n",
    "(nsamples, nattribs) = np.shape(X_moons400)\n",
    "print (\"Moons 400 X: nsamples =\", nsamples, \", nattribs =\", nattribs)\n",
    "\n",
    "# You can transpose the y data using 'reshape'\n",
    "yt_moons400 = np.reshape(y_moons400, (len(y_moons400),1))  \n",
    "(nsamples, nattribs) = np.shape(yt_moons400)\n",
    "print (\"Moons 400 y transpose: nsamples =\", nsamples, \", nattribs =\", nattribs)"
   ]
  },
  {
   "cell_type": "markdown",
   "metadata": {},
   "source": [
    "Unlike *blobs250*, the *moons400* dataset is not linearly separable as shown. Thus, it does not seem to have a straight dividing line to separate two classes perfectly."
   ]
  },
  {
   "cell_type": "code",
   "execution_count": 15,
   "metadata": {},
   "outputs": [
    {
     "data": {
      "text/plain": [
       "<matplotlib.collections.PathCollection at 0x26d20183c08>"
      ]
     },
     "execution_count": 15,
     "metadata": {},
     "output_type": "execute_result"
    },
    {
     "data": {
      "image/png": "[encoded data removed]",
      "text/plain": [
       "<Figure size 432x288 with 1 Axes>"
      ]
     },
     "metadata": {
      "needs_background": "light"
     },
     "output_type": "display_data"
    }
   ],
   "source": [
    "# plot X[0] vs X[1] and colour points according to the class, y\n",
    "plt.scatter(X_moons400[:,0], X_moons400[:,1], c=y_moons400)  "
   ]
  },
  {
   "cell_type": "markdown",
   "metadata": {},
   "source": [
    "Similarly to *blobs250*, we divide each dataset randomly into training set (70%), validation set (15%), and testing set (15%) to find the best model for the dataset, i.e. weights `w` and bias `b`.\n",
    "\n",
    "Again, I separate 70% of the *moons400* dataset for main training, `X_moons400_train` and `y_moons400_train`. Then, separate the rest of them in half so that 15% each for tuning, `X_moons400_validation` and `y_moons400_validation`, and for final performance evaluation, `X_moons400_test` and `y_moons400_test`, according to the total dataset."
   ]
  },
  {
   "cell_type": "code",
   "execution_count": 16,
   "metadata": {},
   "outputs": [],
   "source": [
    "# https://scikit-learn.org/stable/modules/generated/sklearn.model_selection.train_test_split.html\n",
    "X_moons400_train, X_rest, y_moons400_train, y_rest = train_test_split(X_moons400, y_moons400, test_size=0.3)\n",
    "X_moons400_validation, X_moons400_test, y_moons400_validation, y_moons400_test = train_test_split(X_rest, y_rest, test_size=0.5)"
   ]
  },
  {
   "cell_type": "markdown",
   "metadata": {},
   "source": [
    "We will also apply Z-Normalisation to the dataset to achieve better results before training a model."
   ]
  },
  {
   "cell_type": "code",
   "execution_count": 17,
   "metadata": {},
   "outputs": [],
   "source": [
    "# find mean and std from training data\n",
    "X_moons400_mean, X_moons400_std = znormal.find(X_moons400_train)\n",
    "\n",
    "# apply normalisation by the mean and the std to training, validation and testing data\n",
    "normalised_X_moons400_train = znormal.apply(X_moons400_train, X_moons400_mean, X_moons400_std)\n",
    "normalised_X_moons400_validation = znormal.apply(X_moons400_validation, X_moons400_mean, X_moons400_std)\n",
    "normalised_X_moons400_test = znormal.apply(X_moons400_test, X_moons400_mean, X_moons400_std)"
   ]
  },
  {
   "cell_type": "markdown",
   "metadata": {},
   "source": [
    "Similarly to find the best learning rate, `alpha`, the training dataset and the validation dataset are used. "
   ]
  },
  {
   "cell_type": "code",
   "execution_count": 18,
   "metadata": {},
   "outputs": [
    {
     "name": "stdout",
     "output_type": "stream",
     "text": [
      "Moons 400 alpha: 0.1\n"
     ]
    }
   ],
   "source": [
    "# find the best learning rate from training and validation\n",
    "alpha_moons400 = lr.find_learning_rate(normalised_X_moons400_train, y_moons400_train, normalised_X_moons400_validation, y_moons400_validation)\n",
    "print(\"Moons 400 alpha:\", alpha_moons400)"
   ]
  },
  {
   "cell_type": "markdown",
   "metadata": {},
   "source": [
    "Now with the best `alpha` found by training set and validation set, `alpha_moons400`, we fit a logistic regression model to find weights `w_moons400_train` and bias `b_moons400_train` with the training dataset. \n",
    "\n",
    "The results of the cost function over iterations tends to 0 as shown in the graph. However, the graph can be noisy since we calculate a single case each iteration, aka Stochastic Gradient Descent."
   ]
  },
  {
   "cell_type": "code",
   "execution_count": 19,
   "metadata": {},
   "outputs": [
    {
     "data": {
      "image/png": "[encoded data removed]",
      "text/plain": [
       "<Figure size 432x288 with 1 Axes>"
      ]
     },
     "metadata": {
      "needs_background": "light"
     },
     "output_type": "display_data"
    }
   ],
   "source": [
    "w_moons400_train, b_moons400_train, J_moons400_interations = lr.fit(normalised_X_moons400_train, y_moons400_train, alpha_moons400, return_cost=True)\n",
    "\n",
    "# print a plot for cost by iterations\n",
    "plt.plot(J_moons400_interations)\n",
    "plt.show()"
   ]
  },
  {
   "cell_type": "markdown",
   "metadata": {},
   "source": [
    "The prediction results of the normalised testing datasets `normalised_X_moons400_test` with the weights `w_moons400_train` and bias `b_moons400_train` found by training dataset are shown below. \n",
    "\n",
    "As expected, the trained model found the best possible straight line to divide two classes, 0 and 1, but we could NOT achieve 100% accurate results on the test set for *moons400*."
   ]
  },
  {
   "cell_type": "code",
   "execution_count": 20,
   "metadata": {},
   "outputs": [
    {
     "name": "stdout",
     "output_type": "stream",
     "text": [
      "LR y_moons400_predict\n",
      " [1 1 1 0 1 1 0 1 1 1 0 0 0 1 1 0 0 0 1 1 1 1 1 1 0 0 1 0 0 1 0 1 1 1 0 0 0\n",
      " 1 1 1 1 1 0 1 0 0 0 1 1 1 0 0 1 1 0 0 0 1 0 1]\n",
      "LR y_moons400_test\n",
      " [1 1 1 0 0 1 1 1 1 1 0 0 0 1 1 0 0 0 1 0 0 0 1 0 0 0 1 0 0 1 1 0 1 1 1 0 0\n",
      " 1 1 1 0 1 0 1 0 0 0 1 1 0 0 0 1 1 0 0 0 1 0 1]\n",
      "Moons400 LR Accuracy: 81.66666666666667\n"
     ]
    }
   ],
   "source": [
    "# compare the predicted outputs and the actual data\n",
    "y_moons400_predict = lr.predict(normalised_X_moons400_test, w_moons400_train, b_moons400_train)\n",
    "print(\"LR y_moons400_predict\\n\", np.array(y_moons400_predict))\n",
    "print(\"LR y_moons400_test\\n\", y_moons400_test)\n",
    "\n",
    "accuracy_moons400 = accuracy(y_moons400_test, y_moons400_predict)\n",
    "print(\"Moons400 LR Accuracy:\", accuracy_moons400)"
   ]
  },
  {
   "cell_type": "markdown",
   "metadata": {},
   "source": [
    "## Part 3: Implement and Test a Shallow Neural Network"
   ]
  },
  {
   "cell_type": "markdown",
   "metadata": {},
   "source": [
    "To overcome the drawback of Logistic Regression that only finds a linear line for classification, e.g. *moons400* prediction, Neural Network algorithm is introduced. In here, I will implement 2-Layer Neural Network learned in lecture 3, aka Shallow Neural Network."
   ]
  },
  {
   "cell_type": "markdown",
   "metadata": {},
   "source": [
    "For the implementation of a Shallow Neural Network, I will re-use the *Sigmoid* function as an activation function. Therefore, we still need `sigmoid` and `stochastic_cost_function`. We will also need a derivative of the activation function `sigmoid_derivative` in hidden layers which is defined as follows.\n",
    "\n",
    "        f'(z) = f(z) * (1 - f(z))"
   ]
  },
  {
   "cell_type": "code",
   "execution_count": 21,
   "metadata": {},
   "outputs": [],
   "source": [
    "def sigmoid_derivative(z):\n",
    "    sigmoid_z = sigmoid(z)\n",
    "    return sigmoid_z * (1 - sigmoid_z)"
   ]
  },
  {
   "cell_type": "markdown",
   "metadata": {},
   "source": [
    "At forward propagation stage, we define `zi_l` as sum of inputs into node *i* in layer *l*, and `ai_l` as the output (activation) of node *i* in layer *l* where `f_l()` is the activation function for layer *l*. As defined `a_L = y_hat`, the outputs from forward propagation are the predictions when a Neural Network is deployed into an applicaion.\n",
    "\n",
    "        zi_l = sum_j (Wij_l * aj_l-1 + bi_l) (= Wi_l.dot(ai_l-1) + bi_l)\n",
    "        ai_l = f_l(zi_l) = sigmoid(zi_l)\n",
    "        ai_l0 = xi\n",
    "        ai_L = yi_hat"
   ]
  },
  {
   "cell_type": "markdown",
   "metadata": {},
   "source": [
    "At back propagation stage, we calculate the following gradients in an output layer and a hidden layer since there are only two layers in the implementation.\n",
    "* Output layer (L=l2)\n",
    "        \n",
    "        delta_z1_L = a1_L - y1 = a1_l2 - y_random_one_train = delta_z1_l2\n",
    "        delta_W1i_L = delta_z1_L * ai_L-1 \n",
    "                        (= delta_z1_l2 * np.array(a_l1) = delta_W1i_l2)\n",
    "        delta_b1_L = delta_z1_L = delta_b1_l2\n",
    "        \n",
    "* Hidden layer (l1)\n",
    "    \n",
    "        delta_zi_l = f'(zi_l) * sum_j (delta_zj_l+1 * Wji_l+1)\n",
    "                    = f'(zi_l1) * sum_j (delta_zj_l2 * Wji_l2)\n",
    "                        (= np.multiply(sigmoid_derivative(np.array(z_l1)), W_l2) * delta_z1_l2 = delta_zi_l1)\n",
    "        delta_Wji_l = delta_z_l * ai_l-1\n",
    "                    = delta_z_l1 * ai_l0\n",
    "                        (= delta_zi_l1[i] * X_random_one_train = delta_Wji_l1) \n",
    "        delta_bj_l = delta_zj_l (= delta_zi_l1)"
   ]
  },
  {
   "cell_type": "markdown",
   "metadata": {},
   "source": [
    "Finally, we update all weights and biases at Stochastic Gradient Descent stage.\n",
    "\n",
    "        Wji_l -= alpha * delta_Wji_l\n",
    "        bj_l -= alpha * delta_bj_l"
   ]
  },
  {
   "cell_type": "markdown",
   "metadata": {},
   "source": [
    "### Brief Description of Algorithm (Shallow Neural Network)\n",
    "**MyShallowNeuralNetwork.*fit***\n",
    "* Set values for `threshold` and hyperparameters `node`, `alpha`, `epoch`\n",
    "    * `node` for the number of nodes in the hidden layer\n",
    "        * if `node` is not given, set `node` to the number of attributes in the input `X`\n",
    "    * `alpha` for learning rate\n",
    "    * `epoch` for the number of epochs for the max number of iterations\n",
    "\n",
    "* Initialise `W` and `b` to a set of small random numbers\n",
    "    * Set `W` and `b` to each layer, i.e. `W_l1`, `W_l2`, `b_l1` and `b1_l2`\n",
    "    \n",
    "* Loop until convergence or max number of iterations:\n",
    "    * Select a single example `{X_random_one_train, y_random_one_train}` from training set at random (Stochastic Gradient Descent)\n",
    "    * FORWARD PROPAGATION STAGE\n",
    "        * Calculate output(s) for the training case, and the cost\n",
    "            * Calculate `z_l1` and `a_l1` as shown above with `X_random_one_train`, `W_l1` and `b_l1`\n",
    "            * Calculate `z1_l2` and `a1_l2` as shown above with `a_l1`, `W_l2` and `b1_l2`\n",
    "        * Calculate `J_curr` by `stochastic_cost_function` with correct label `y_random_one_train` and prediction `a1_l2`\n",
    "        * Check convergence by absolute value of `J_curr` being less than `threshold`\n",
    "\n",
    "    * BACK PROPAGATION STAGE\n",
    "        * Propagate the output errors back through the network\n",
    "        * Numerically calculate the derivatives of `W` and `b` w.r.t. the cost\n",
    "        * OUTPUT LAYER\n",
    "            * Calculate `delta_z1_l2`, `delta_W1i_l2` and `delta_b1_l2` as shown above\n",
    "            \n",
    "        * HIDDEN LAYER\n",
    "            * Calculate `delta_zi_l1`, `delta_bj_l1`, and `delta_Wji_l1` as shown above\n",
    "        \n",
    "    * STOCHASTIC GRADIENT DESCENT UPDATE STAGE\n",
    "        * Adjust `W` and `b` values in a direction to reduce cost as given by derivatives, by an amount controlled by the learning rate\n",
    "            * Update `W_l1`, `b_l1`, `W_l2` and `b1_l2` as shown above\n",
    "\n",
    "\n",
    "**MyShallowNeuralNetwork.*predict***\n",
    "* Apply weights `W_l1` and `W_l2` and biases `b_l1` and `b1_l2` to SNN with the input `X` and get `y_hat` by `sigmoid` function\n",
    "* Make a prediction by checking whether the probability is greater than 0.5 that the actual output `y` is 1 given a set of input `X`.\n",
    "\n",
    "**MyShallowNeuralNetwork.*find_best_index***\n",
    "* Compare the accuracies on the list `accuracy_list` to find the indices of the highest accuracy\n",
    "* If the highest accuracy occurs more than once, get the index of the smallest iteration taken in `iteration_list` among them\n",
    "\n",
    "**MyShallowNeuralNetwork.*find_hyperparameters***\n",
    "* Loop for each candidate `node` value - find the best `alpha` (& `epoch`) in each `node`:\n",
    "    * Loop for each candidate `alpha` value - find the best `epoch` in each `alpha`: \n",
    "        * Loop for each candidate `epoch` value:\n",
    "            * Fit the model\n",
    "            * Predict the output\n",
    "        * Find the best epoch index from `accuracy_for_epochs` and `iteration_for_epochs`\n",
    "        \n",
    "    * Find the best alpha index from `accuracy_for_alphas` and `iteration_for_alphas`\n",
    "\n",
    "* Find the best node index from `accuracy_for_nodes` and `iteration_for_nodes`\n",
    "* Get the best `node`, `alpha` and `epoch` from the best node index"
   ]
  },
  {
   "cell_type": "code",
   "execution_count": 22,
   "metadata": {},
   "outputs": [],
   "source": [
    "class MyShallowNeuralNetwork:\n",
    "    def fit(self, X, y, node=None, alpha=0.2, epoch=10, return_iteration=False, return_cost=False):\n",
    "        # initialisation\n",
    "        one_epoch = len(X)\n",
    "        max_iterations = epoch * one_epoch\n",
    "        # threshold - hard code for now\n",
    "        threshold = 1 * math.exp(-8)\n",
    "        # set small random values of W and b\n",
    "        X_num_feature = X.shape[1]\n",
    "        if node is None:\n",
    "            node = X_num_feature\n",
    "        W_l1 = np.random.normal(0, 0.01, size=(node, X_num_feature))  # small random value matrix in normal distribution for layer l=1\n",
    "        W_l2 = np.random.normal(0, 0.01, size=(1, node))[0]  # small random values for layer l=L=2\n",
    "        b_l1 = np.random.normal(0, 0.01, size=(1, node))[0]  # small random values for layer l=1\n",
    "        b1_l2 = np.random.normal(0, 0.01, size=1)[0]  # small random values for layer l=L=2\n",
    "        # Loop for max iterations\n",
    "        converged = False\n",
    "        iteration = 0\n",
    "        J_epochs = []\n",
    "        while not converged and iteration < max_iterations:\n",
    "            # single example from training set selected at random (Stochastic Gradient Descent)\n",
    "            # select a random row of X and y\n",
    "            X_copy = X.copy()\n",
    "            y_copy = y.copy()\n",
    "            random_indice = np.random.choice(X_copy.shape[0], size=1, replace=False)\n",
    "            X_random_one_train = X_copy[random_indice, :][0] # Xj\n",
    "            y_random_one_train = y_copy[random_indice][0]\n",
    "\n",
    "            # Forward Propagation step\n",
    "                # * calculate output(s) for the training case, and the cost\n",
    "            # update W, b, a in l-th layer\n",
    "            # i-th node in layer l=1\n",
    "            z_l1 = []\n",
    "            a_l1 = []\n",
    "            for i in range(node):\n",
    "                Wi_l1 = W_l1[i]\n",
    "                bi_l1 = b_l1[i]\n",
    "                zi_l1 = X_random_one_train.dot(Wi_l1) + bi_l1\n",
    "                z_l1.append(zi_l1)\n",
    "                a_l1.append(sigmoid(zi_l1)) # activation function = Logistic = Sigmoid function\n",
    "            # node 1 layer l=L=2\n",
    "            z1_l2 = W_l2.dot(a_l1) + b1_l2\n",
    "            a1_l2 = sigmoid(z1_l2) # y_hat: prediction\n",
    "            J_curr = stochastic_cost_function(y_random_one_train, a1_l2)\n",
    "            if iteration % one_epoch == 0: # every multiply of one_epoch size\n",
    "                J_epochs.append(J_curr)\n",
    "            if iteration > 1 and abs(J_curr) < threshold:\n",
    "                converged = True\n",
    "\n",
    "            # Back Propagation step\n",
    "                # * propagate the output errors back through the network\n",
    "                # * numerically calculate the derivatives of W and b w.r.t the cost\n",
    "            # output layer\n",
    "            delta_z1_l2 = a1_l2 - y_random_one_train\n",
    "            delta_W1i_l2 = delta_z1_l2 * np.array(a_l1) # numpy multiply by scalar\n",
    "            delta_b1_l2 = delta_z1_l2\n",
    "            # hidden layer\n",
    "            delta_zi_l1 = np.multiply(sigmoid_derivative(np.array(z_l1)), W_l2) * delta_z1_l2 # numpy element-wise multiply\n",
    "            delta_bj_l1 = delta_zi_l1\n",
    "            for i in range(node):\n",
    "                delta_Wji_l1 = delta_zi_l1[i] * X_random_one_train\n",
    "                # Stochastic Gradient Descent Update step - for next four lines\n",
    "                    # * Adjust W and b values in a direction to reduce cost as given by derivatives, by an amount controlled by the learning rate\n",
    "                W_l1[i] -= alpha * delta_Wji_l1\n",
    "            b_l1 -= alpha * delta_bj_l1\n",
    "            W_l2 -= alpha * delta_W1i_l2\n",
    "            b1_l2 -= alpha * delta_b1_l2\n",
    "\n",
    "            iteration += 1\n",
    "        if return_iteration and return_cost:\n",
    "            return W_l1, b_l1, W_l2, b1_l2, iteration, J_epochs\n",
    "        elif return_iteration:\n",
    "            return W_l1, b_l1, W_l2, b1_l2, iteration\n",
    "        elif return_cost:\n",
    "            return W_l1, b_l1, W_l2, b1_l2, J_epochs\n",
    "        else:\n",
    "            return W_l1, b_l1, W_l2, b1_l2\n",
    "\n",
    "    def predict(self, X, W_l1, b_l1, W_l2, b1_l2):\n",
    "        y_hat = []\n",
    "        for Xj in X:\n",
    "            # i-th node in layer l=1\n",
    "            ai_l1 = []\n",
    "            for i in range(W_l1.shape[0]): # the number of nodes in hidden layer\n",
    "                Wi_l1 = W_l1[i]\n",
    "                bi_l1 = b_l1[i]\n",
    "                zi_l1 = Xj.dot(Wi_l1) + bi_l1  # numpy dot\n",
    "                ai_l1.append(sigmoid(zi_l1))  # activation function = Logistic = Sigmoid function\n",
    "            # node 1 layer l=L=2\n",
    "            z1_l2 = W_l2.dot(ai_l1) + b1_l2\n",
    "            yj_hat = sigmoid(z1_l2)  # a1_l2\n",
    "            y_hat.append(yj_hat)\n",
    "        y_predict = [(lambda i: 0 if i < 0.5 else 1)(i) for i in y_hat] # 0 if y_hat < 0.5 else 1\n",
    "        return y_predict\n",
    "\n",
    "    def find_best_index(self, accuracy_list, iteration_list):\n",
    "        max_accuracy_indices = np.argwhere(accuracy_list == np.amax(accuracy_list))  # find index of max\n",
    "        max_accuracy_indices = np.reshape(max_accuracy_indices, len(max_accuracy_indices))  # double list to flat list\n",
    "        max_accuracy_indices = max_accuracy_indices.tolist()\n",
    "        iteration_list = np.array(iteration_list)  # get elements by index list\n",
    "        min_iteration_indices = np.argwhere(iteration_list == np.amin(list(np.array(iteration_list[max_accuracy_indices]))))\n",
    "        return min_iteration_indices[0][0]\n",
    "\n",
    "    def find_hyperparameters(self, X, y, X_validation, y_validation, nodes=[1, 2, 3, 4, 5], alphas=[0.01, 0.03, 0.05, 0.1, 0.3], epochs=[1, 5, 10, 100, 200]):\n",
    "        accuracy_for_nodes = []\n",
    "        iteration_for_nodes = []\n",
    "        best_alpha_for_nodes = []\n",
    "        best_epoch_for_nodes =[]\n",
    "        for node in nodes:\n",
    "            accuracy_for_alphas = []\n",
    "            iteration_for_alphas = []\n",
    "            best_epoch_for_alphas = []\n",
    "            for alpha in alphas:\n",
    "                accuracy_for_epochs = []\n",
    "                iteration_for_epochs = []\n",
    "                for epoch in epochs:\n",
    "                    W_l1, b_l1, W_l2, b1_l2, iteration = self.fit(X, y, node, alpha, epoch, return_iteration=True)\n",
    "                    y_predict = self.predict(X_validation, W_l1, b_l1, W_l2, b1_l2)\n",
    "                    prediction_accuracy = accuracy(y_validation, y_predict)\n",
    "                    accuracy_for_epochs.append(prediction_accuracy)\n",
    "                    iteration_for_epochs.append(iteration)\n",
    "                # find the best epoch for each alpha\n",
    "                best_epoch_index = self.find_best_index(accuracy_for_epochs, iteration_for_epochs)\n",
    "\n",
    "                accuracy_for_alphas.append(accuracy_for_epochs[best_epoch_index])\n",
    "                iteration_for_alphas.append(iteration_for_epochs[best_epoch_index])\n",
    "                best_epoch_for_alphas.append(epochs[best_epoch_index])\n",
    "            # find the best alpha\n",
    "            best_alpha_index = self.find_best_index(accuracy_for_alphas, iteration_for_alphas)\n",
    "\n",
    "            accuracy_for_nodes.append(accuracy_for_alphas[best_alpha_index])\n",
    "            iteration_for_nodes.append(iteration_for_alphas[best_alpha_index])\n",
    "            best_alpha_for_nodes.append(alphas[best_alpha_index])\n",
    "            best_epoch_for_nodes.append(best_epoch_for_alphas[best_alpha_index])\n",
    "        # find the best node\n",
    "        best_node_index = self.find_best_index(accuracy_for_nodes, iteration_for_nodes)\n",
    "        return nodes[best_node_index], best_alpha_for_nodes[best_node_index], best_epoch_for_nodes[best_node_index]"
   ]
  },
  {
   "cell_type": "markdown",
   "metadata": {},
   "source": [
    "Now we test `MyShallowNeuralNetwork` with *blobs250* datasets as in Part 2. Firstly, we find the best values for the hyperparameters `node`, `alpha` and `epoch` by the method `MyShallowNeuralNetwork.find_hyperparameters` with training dataset and validation dataset, i.e. `normalised_X_blobs250_train`, `y_blobs250_train`, `normalised_X_blobs250_validation` and `y_blobs250_validation`.\n",
    "\n",
    "One thing that stands out to me is that the learning rate `snn_alpha_blobs250` is quite big! SGD tends to be very slow. Therefore, from the tuning phase, the higher learning rate `alpha` returns the better performance.\n",
    "\n",
    "We then fit our Shallow Neural Network model with the training datasets and the best hyperparameters found."
   ]
  },
  {
   "cell_type": "code",
   "execution_count": 23,
   "metadata": {},
   "outputs": [
    {
     "name": "stdout",
     "output_type": "stream",
     "text": [
      "Blobs 250 SNN node: 1\n",
      "Blobs 250 SNN alpha: 0.3\n",
      "Blobs 250 SNN # of epochs: 1\n"
     ]
    }
   ],
   "source": [
    "snn = MyShallowNeuralNetwork()\n",
    "\n",
    "snn_node_blob250, snn_alpha_blobs250, snn_epoch_blobs250 = snn.find_hyperparameters(normalised_X_blobs250_train, y_blobs250_train, normalised_X_blobs250_validation, y_blobs250_validation)\n",
    "print(\"Blobs 250 SNN node:\", snn_node_blob250)\n",
    "print(\"Blobs 250 SNN alpha:\", snn_alpha_blobs250)\n",
    "print(\"Blobs 250 SNN # of epochs:\", snn_epoch_blobs250)\n",
    "\n",
    "W_l1_blobs250_train, b_l1_blobs250_train, W_l2_blobs250_train, b_l2_blobs250_train, J_blobs250_epochs = snn.fit(normalised_X_blobs250_train, y_blobs250_train, node=snn_node_blob250, alpha=snn_alpha_blobs250, epoch=snn_epoch_blobs250, return_cost=True)\n",
    "\n",
    "if len(J_blobs250_epochs) > 1: # don't plot if no more than one element\n",
    "    plt.plot(J_blobs250_epochs)\n",
    "    plt.show()"
   ]
  },
  {
   "cell_type": "markdown",
   "metadata": {},
   "source": [
    "The prediction results of the testing datasets with the weights `W_l1_blobs250_train` and `W_l2_blobs250_train` and biases `b_l1_blobs250_train` and `b_l2_blobs250_train` found by training dataset are shown below. \n",
    "\n",
    "As expected, the trained model predicts two classes correctly. Thus, we achieved 100% accurate results on the test set with `MyShallowNeuralNetwork` for *blobs250*."
   ]
  },
  {
   "cell_type": "code",
   "execution_count": 24,
   "metadata": {},
   "outputs": [
    {
     "name": "stdout",
     "output_type": "stream",
     "text": [
      "SNN y_blobs250_estimate\n",
      " [0 0 0 1 0 1 0 0 1 1 1 0 1 1 0 0 1 0 0 1 0 1 0 0 0 0 0 0 0 0 1 0 1 0 0 0 0\n",
      " 1]\n",
      "SNN y_blobs250_test\n",
      " [0 0 0 1 0 1 0 0 1 1 1 0 1 1 0 0 1 0 0 1 0 1 0 0 0 0 0 0 0 0 1 0 1 0 0 0 0\n",
      " 1]\n",
      "Blobs 250 SNN Accuracy: 100.0\n"
     ]
    }
   ],
   "source": [
    "y_blobs250_predict = snn.predict(normalised_X_blobs250_test , W_l1_blobs250_train, b_l1_blobs250_train, W_l2_blobs250_train, b_l2_blobs250_train)\n",
    "print(\"SNN y_blobs250_estimate\\n\", np.array(y_blobs250_predict))\n",
    "print(\"SNN y_blobs250_test\\n\", y_blobs250_test)\n",
    "\n",
    "accuracy_blobs250 = accuracy(y_blobs250_test, y_blobs250_predict)\n",
    "print(\"Blobs 250 SNN Accuracy:\", accuracy_blobs250)"
   ]
  },
  {
   "cell_type": "markdown",
   "metadata": {},
   "source": [
    "Also, we test `MyShallowNeuralNetwork` with *moons400* datasets as in Part 2. Similarly, to find the best values for the hyperparameters `node`, `alpha` and `epoch` by the method `MyShallowNeuralNetwork.find_hyperparameters` with training dataset and validation dataset, i.e. `normalised_X_moons400_train`, `y_moons400_train`, `normalised_X_moons400_validation` and `y_moons400_validation`.\n",
    "\n",
    "Again, the learning rate `snn_alpha_moons400` is quite big! So I can expect that SGD tends to be very slow and the higher learning rate `alpha` returns the better performance during tuning.\n",
    "\n",
    "We then fit our Shallow Neural Network model with the training datasets and the best hyperparameters found."
   ]
  },
  {
   "cell_type": "markdown",
   "metadata": {},
   "source": [
    "The results of the cost function over the number of epochs are taken at the end of every epoch (not averaged out!). Therefore, the graph can be noisy since we calculate a single case each iteration, aka Stochastic Gradient Descent. We will always get some that are high values, because these are the cases that are hard to classify, while the results should converge to 0 over time."
   ]
  },
  {
   "cell_type": "code",
   "execution_count": 25,
   "metadata": {},
   "outputs": [
    {
     "name": "stdout",
     "output_type": "stream",
     "text": [
      "Moons 400 SNN node: 4\n",
      "Moons 400 SNN alpha: 0.3\n",
      "Moons 400 SNN # of epochs: 100\n"
     ]
    },
    {
     "data": {
      "image/png": "[encoded data removed]",
      "text/plain": [
       "<Figure size 432x288 with 1 Axes>"
      ]
     },
     "metadata": {
      "needs_background": "light"
     },
     "output_type": "display_data"
    }
   ],
   "source": [
    "snn_node_moons400, snn_alpha_moons400, snn_epoch_moons400 = snn.find_hyperparameters(normalised_X_moons400_train, y_moons400_train, normalised_X_moons400_validation, y_moons400_validation)\n",
    "print(\"Moons 400 SNN node:\", snn_node_moons400)\n",
    "print(\"Moons 400 SNN alpha:\", snn_alpha_moons400)\n",
    "print(\"Moons 400 SNN # of epochs:\", snn_epoch_moons400)\n",
    "\n",
    "W_l1_moons400_train, b_l1_moons400_train, W_l2_moons400_train, b_l2_moons400_train, J_moons400_epochs = snn.fit(normalised_X_moons400_train, y_moons400_train, node=snn_node_moons400, alpha=snn_alpha_moons400, epoch=snn_epoch_moons400, return_cost=True)\n",
    "\n",
    "plt.plot(J_moons400_epochs)\n",
    "plt.show()"
   ]
  },
  {
   "cell_type": "markdown",
   "metadata": {},
   "source": [
    "The prediction results of the normalised testing datasets `normalised_X_moons400_test` with the weights `W_l1_moons400_train` and `W_l2_moons400_train` and biases `b_l1_moons400_train` and `b_l2_moons400_train` found by training dataset are shown below. \n",
    "\n",
    "The trained model by `MyShallowNeuralNetwork` predicts two classes close to 100% now on the test set for *moons400*. Thus, Shallow Neural Network can perform better at non-linearly separable datasets than Logistic Regression."
   ]
  },
  {
   "cell_type": "code",
   "execution_count": 26,
   "metadata": {},
   "outputs": [
    {
     "name": "stdout",
     "output_type": "stream",
     "text": [
      "Moons 400 SNN y_moons400_predict\n",
      " [1 1 1 0 0 1 1 1 1 1 0 0 0 1 1 0 0 0 1 0 0 0 1 0 0 0 1 0 0 1 1 0 1 1 1 0 1\n",
      " 1 1 1 0 1 0 1 0 0 0 1 1 1 0 0 1 1 0 0 0 1 0 1]\n",
      "Moons 400 SNN y_moons400_test\n",
      " [1 1 1 0 0 1 1 1 1 1 0 0 0 1 1 0 0 0 1 0 0 0 1 0 0 0 1 0 0 1 1 0 1 1 1 0 0\n",
      " 1 1 1 0 1 0 1 0 0 0 1 1 0 0 0 1 1 0 0 0 1 0 1]\n",
      "Moons 400 SNN Accuracy: 96.66666666666667\n"
     ]
    }
   ],
   "source": [
    "y_moons400_predict = snn.predict(normalised_X_moons400_test, W_l1_moons400_train, b_l1_moons400_train, W_l2_moons400_train, b_l2_moons400_train)\n",
    "print(\"Moons 400 SNN y_moons400_predict\\n\", np.array(y_moons400_predict))\n",
    "print(\"Moons 400 SNN y_moons400_test\\n\", y_moons400_test)\n",
    "\n",
    "accuracy_moons400 = accuracy(y_moons400_test, y_moons400_predict)\n",
    "print(\"Moons 400 SNN Accuracy:\", accuracy_moons400)"
   ]
  },
  {
   "cell_type": "markdown",
   "metadata": {},
   "source": [
    "## Part 4: Challenging Task"
   ]
  },
  {
   "cell_type": "markdown",
   "metadata": {},
   "source": [
    "In this part, my task is to distinguish between two classes '**truck**' and '**automobile**' from the CIFAR-10 dataset: https://www.cs.toronto.edu/~kriz/cifar.html"
   ]
  },
  {
   "cell_type": "code",
   "execution_count": 27,
   "metadata": {},
   "outputs": [],
   "source": [
    "# This function taken from the CIFAR website\n",
    "def unpickle(file):\n",
    "    import pickle\n",
    "    with open(file, 'rb') as fo:\n",
    "        dict = pickle.load(fo, encoding='bytes')\n",
    "    return dict"
   ]
  },
  {
   "cell_type": "code",
   "execution_count": 28,
   "metadata": {},
   "outputs": [],
   "source": [
    "def loadbatch(batchname):\n",
    "    folder = 'cifar-10-batches-py'\n",
    "    batch = unpickle(folder+\"/\"+batchname)\n",
    "    return batch\n",
    "\n",
    "def loadlabelnames():\n",
    "    folder = 'cifar-10-batches-py'\n",
    "    meta = unpickle(folder+\"/\"+'batches.meta')\n",
    "    return meta[b'label_names']"
   ]
  },
  {
   "cell_type": "markdown",
   "metadata": {},
   "source": [
    "The images have 3 colour channels (RGB). In this assignment, I convert the images to greyscale to have one channel, i.e. vector of 1024 floats. The main idea of the greyscale is to apply weights of \\[0.2989, 0.5870, 0.1140\\] to 3 colour channels (ref: https://stackoverflow.com/questions/12201577/how-can-i-convert-an-rgb-image-into-grayscale-in-python).\n",
    "\n",
    "Also, we know the range of the pixel is between 0 and 255. Therefore, we **normalise** the picture array dividing by 255 to have the pixel range between 0 and 1. As a result, we add a parameter `vmax=1` to the function `matplotlib.pyplot.imshow` to visualise the image."
   ]
  },
  {
   "cell_type": "code",
   "execution_count": 29,
   "metadata": {},
   "outputs": [],
   "source": [
    "def greyscale(data, index):\n",
    "    picture = data[index]\n",
    "    picture.shape = (3, 32, 32)\n",
    "    # Plot.imshow requires the RGB to be the third dimension, not the first, so need to rearrange\n",
    "    picture = picture.transpose([1, 2, 0])\n",
    "    grey_picture = np.dot(picture[..., :3], [0.2989, 0.5870, 0.1140])  # greyscale\n",
    "    # Normalisation - Pixel 0 to 255 normalised by dividing by 255\n",
    "    normalised_grey_picture = np.array(grey_picture) / 255\n",
    "    return normalised_grey_picture\n",
    "\n",
    "def visualise(picture):\n",
    "    plt.imshow(picture, vmax=1)\n",
    "    plt.show()"
   ]
  },
  {
   "cell_type": "markdown",
   "metadata": {},
   "source": [
    "The entire CIFAR-10 datasets are too big to handle by a single laptop - time consuming - so I will select random subsets with 'data_batch_5'."
   ]
  },
  {
   "cell_type": "code",
   "execution_count": 30,
   "metadata": {},
   "outputs": [
    {
     "name": "stdout",
     "output_type": "stream",
     "text": [
      "Number of items in the batch is 4\n",
      "All keys in the batch: dict_keys([b'batch_label', b'labels', b'data', b'filenames'])\n"
     ]
    }
   ],
   "source": [
    "batch = loadbatch('data_batch_5')\n",
    "print(\"Number of items in the batch is\", len(batch))\n",
    "\n",
    "# Display all keys, so we can see the ones we want\n",
    "print('All keys in the batch:', batch.keys())"
   ]
  },
  {
   "cell_type": "code",
   "execution_count": 31,
   "metadata": {},
   "outputs": [
    {
     "name": "stdout",
     "output_type": "stream",
     "text": [
      "size of data in this batch: 10000 , size of labels: 10000\n",
      "<class 'numpy.ndarray'>\n",
      "(10000, 3072)\n"
     ]
    }
   ],
   "source": [
    "data = batch[b'data']\n",
    "labels = batch[b'labels']\n",
    "print (\"size of data in this batch:\", len(data), \", size of labels:\", len(labels))\n",
    "print (type(data))\n",
    "print(data.shape)\n",
    "\n",
    "names = loadlabelnames()"
   ]
  },
  {
   "cell_type": "markdown",
   "metadata": {},
   "source": [
    "As my task is to distinguish between two classes 'truck' and 'automobile' only, I select datasets that are either 'truck' or 'automobile'. The selected datasets are then reshaped into 1D numpy array to apply to Neural Network `MyShallowNeuralNetwork`. The reshaped numpy arrays are then saved into `X_cifar10`. Also, save **'truck' to 0** and **'automobile' to 1** to `y_cifar10` for classification."
   ]
  },
  {
   "cell_type": "code",
   "execution_count": 32,
   "metadata": {},
   "outputs": [],
   "source": [
    "# Get two classes: truck for 0, automobile for 1\n",
    "X_cifar10 = []\n",
    "y_cifar10 = []\n",
    "grey_pictures = []\n",
    "for i in range(len(labels)):\n",
    "    if names[labels[i]] == b'truck': # truck is 0\n",
    "        grey_picture = greyscale(data, i)\n",
    "        grey_pictures.append(grey_picture)\n",
    "        X_cifar10.append(grey_picture.reshape(1, 1024)[0])\n",
    "        y_cifar10.append(0)\n",
    "    elif names[labels[i]] == b'automobile': # automobile is 1\n",
    "        grey_picture = greyscale(data, i)\n",
    "        grey_pictures.append(grey_picture)\n",
    "        X_cifar10.append(grey_picture.reshape(1, 1024)[0])\n",
    "        y_cifar10.append(1)\n",
    "X_cifar10 = np.array(X_cifar10)\n",
    "y_cifar10 = np.array(y_cifar10)"
   ]
  },
  {
   "cell_type": "markdown",
   "metadata": {},
   "source": [
    "Therefore, the filtered images (datasets) are only 'truck' or 'automobile'. The first 10 images are visualised below."
   ]
  },
  {
   "cell_type": "code",
   "execution_count": 33,
   "metadata": {},
   "outputs": [
    {
     "data": {
      "image/png": "[encoded data removed]",
      "text/plain": [
       "<Figure size 432x288 with 1 Axes>"
      ]
     },
     "metadata": {
      "needs_background": "light"
     },
     "output_type": "display_data"
    },
    {
     "name": "stdout",
     "output_type": "stream",
     "text": [
      "Image 0 : Class is 'automobile'.\n"
     ]
    },
    {
     "data": {
      "image/png": "[encoded data removed]",
      "text/plain": [
       "<Figure size 432x288 with 1 Axes>"
      ]
     },
     "metadata": {
      "needs_background": "light"
     },
     "output_type": "display_data"
    },
    {
     "name": "stdout",
     "output_type": "stream",
     "text": [
      "Image 1 : Class is 'automobile'.\n"
     ]
    },
    {
     "data": {
      "image/png": "[encoded data removed]",
      "text/plain": [
       "<Figure size 432x288 with 1 Axes>"
      ]
     },
     "metadata": {
      "needs_background": "light"
     },
     "output_type": "display_data"
    },
    {
     "name": "stdout",
     "output_type": "stream",
     "text": [
      "Image 2 : Class is 'automobile'.\n"
     ]
    },
    {
     "data": {
      "image/png": "[encoded data removed]",
      "text/plain": [
       "<Figure size 432x288 with 1 Axes>"
      ]
     },
     "metadata": {
      "needs_background": "light"
     },
     "output_type": "display_data"
    },
    {
     "name": "stdout",
     "output_type": "stream",
     "text": [
      "Image 3 : Class is 'truck'.\n"
     ]
    },
    {
     "data": {
      "image/png": "[encoded data removed]",
      "text/plain": [
       "<Figure size 432x288 with 1 Axes>"
      ]
     },
     "metadata": {
      "needs_background": "light"
     },
     "output_type": "display_data"
    },
    {
     "name": "stdout",
     "output_type": "stream",
     "text": [
      "Image 4 : Class is 'automobile'.\n"
     ]
    },
    {
     "data": {
      "image/png": "[encoded data removed]",
      "text/plain": [
       "<Figure size 432x288 with 1 Axes>"
      ]
     },
     "metadata": {
      "needs_background": "light"
     },
     "output_type": "display_data"
    },
    {
     "name": "stdout",
     "output_type": "stream",
     "text": [
      "Image 5 : Class is 'truck'.\n"
     ]
    },
    {
     "data": {
      "image/png": "[encoded data removed]",
      "text/plain": [
       "<Figure size 432x288 with 1 Axes>"
      ]
     },
     "metadata": {
      "needs_background": "light"
     },
     "output_type": "display_data"
    },
    {
     "name": "stdout",
     "output_type": "stream",
     "text": [
      "Image 6 : Class is 'truck'.\n"
     ]
    },
    {
     "data": {
      "image/png": "[encoded data removed]",
      "text/plain": [
       "<Figure size 432x288 with 1 Axes>"
      ]
     },
     "metadata": {
      "needs_background": "light"
     },
     "output_type": "display_data"
    },
    {
     "name": "stdout",
     "output_type": "stream",
     "text": [
      "Image 7 : Class is 'automobile'.\n"
     ]
    },
    {
     "data": {
      "image/png": "[encoded data removed]",
      "text/plain": [
       "<Figure size 432x288 with 1 Axes>"
      ]
     },
     "metadata": {
      "needs_background": "light"
     },
     "output_type": "display_data"
    },
    {
     "name": "stdout",
     "output_type": "stream",
     "text": [
      "Image 8 : Class is 'truck'.\n"
     ]
    },
    {
     "data": {
      "image/png": "[encoded data removed]",
      "text/plain": [
       "<Figure size 432x288 with 1 Axes>"
      ]
     },
     "metadata": {
      "needs_background": "light"
     },
     "output_type": "display_data"
    },
    {
     "name": "stdout",
     "output_type": "stream",
     "text": [
      "Image 9 : Class is 'truck'.\n"
     ]
    }
   ],
   "source": [
    "for i in range(10):\n",
    "    visualise(grey_pictures[i])\n",
    "    if y_cifar10[i] == 0:\n",
    "        print(\"Image\", i,\": Class is 'truck'.\")\n",
    "    else:\n",
    "        print(\"Image\", i,\": Class is 'automobile'.\")"
   ]
  },
  {
   "cell_type": "markdown",
   "metadata": {},
   "source": [
    "After filtering two classes in the batch, the total number of instances in `X_cifar10` becomes 2036 where the length of each image vector is 1024."
   ]
  },
  {
   "cell_type": "code",
   "execution_count": 34,
   "metadata": {},
   "outputs": [
    {
     "name": "stdout",
     "output_type": "stream",
     "text": [
      "X_cifar10 shape after filtering two classes of 'truck' and 'automobile': (2036, 1024)\n"
     ]
    }
   ],
   "source": [
    "print(\"X_cifar10 shape after filtering two classes of 'truck' and 'automobile':\", X_cifar10.shape)"
   ]
  },
  {
   "cell_type": "markdown",
   "metadata": {},
   "source": [
    "Similar to Part 2, the datasets are randomly divided into training set (70%), validation set (15%), and testing set (15%) to find the best model for the dataset.\n",
    "\n",
    "So I separate 70% of the *cifar10* dataset for main training, `X_cifar10_train` and `y_cifar10_train`. Then, separate the rest of them in half so that 15% each for tuning, `X_cifar10_validation` and `y_cifar10_validation`, and for final performance evaluation, `X_cifar10_test` and `y_cifar10_test`, according to the total dataset.\n",
    "\n",
    "Also, to find the best hyperparameters I set the node list to \\[1, 10, 1024\\] as mentioned in lecture 4 that one input node for each of pixels in Neural Network. Note that the length of each image vector is 1024 in this task."
   ]
  },
  {
   "cell_type": "markdown",
   "metadata": {},
   "source": [
    "The results of the cost function over the number of epochs `J_epochs` are taken at the end of every epoch (not averaged out!). Therefore, the graph looks noisy since we calculate a single case each iteration, aka Stochastic Gradient Descent.We will always get some that are high values, because these are the cases that are hard to classify, while the results should converge to 0 over time."
   ]
  },
  {
   "cell_type": "code",
   "execution_count": 35,
   "metadata": {},
   "outputs": [
    {
     "name": "stdout",
     "output_type": "stream",
     "text": [
      "CIFAR 10 SNN node: 10\n",
      "CIFAR 10 SNN alpha: 0.05\n",
      "CIFAR 10 SNN epoch: 100\n"
     ]
    },
    {
     "data": {
      "image/png": "[encoded data removed]",
      "text/plain": [
       "<Figure size 432x288 with 1 Axes>"
      ]
     },
     "metadata": {
      "needs_background": "light"
     },
     "output_type": "display_data"
    }
   ],
   "source": [
    "# 70% training, 15% validation, 15% testing\n",
    "X_cifar10_train, X_rest, y_cifar10_train, y_rest = train_test_split(X_cifar10, y_cifar10, test_size=0.3)\n",
    "X_cifar10_validation, X_cifar10_test, y_cifar10_validation, y_cifar10_test = train_test_split(X_rest, y_rest, test_size=0.5)\n",
    "\n",
    "\n",
    "snn_node_cifar10, snn_alpha_cifar10, snn_epoch_cifar10 = snn.find_hyperparameters(X_cifar10_train, y_cifar10_train, X_cifar10_validation, y_cifar10_validation, nodes=[1, 10, 1024], alphas=[0.01, 0.05, 0.1, 0.2, 0.3], epochs=[10, 100, 200])\n",
    "print(\"CIFAR 10 SNN node:\", snn_node_cifar10)\n",
    "print(\"CIFAR 10 SNN alpha:\", snn_alpha_cifar10)\n",
    "print(\"CIFAR 10 SNN epoch:\", snn_epoch_cifar10)\n",
    "\n",
    "W_l1_train, b_l1_train, W_l2_train, b_l2_train, J_epochs = snn.fit(X_cifar10_train, y_cifar10_train, node=snn_node_cifar10, alpha=snn_alpha_cifar10, epoch=snn_epoch_cifar10, return_cost=True)\n",
    "plt.plot(J_epochs)\n",
    "plt.show()"
   ]
  },
  {
   "cell_type": "markdown",
   "metadata": {},
   "source": [
    "The prediction results of the normalised testing datasets `X_cifar10_test` with the weights `W_l1_train` and `W_l2_train` and biases `b_l1_train` and `b_l2_train` found by training dataset are shown below. \n",
    "\n",
    "The trained model by `MyShallowNeuralNetwork` predicts two classes better than 50% but not too close to 100% on the test set for *cifar10*. To improve the performance of Neural Network, more training data or more complex hidden layers or Batch/Mini-Batch Gradient Descent can help."
   ]
  },
  {
   "cell_type": "code",
   "execution_count": 36,
   "metadata": {},
   "outputs": [
    {
     "name": "stdout",
     "output_type": "stream",
     "text": [
      "CIFAR 10 SNN y_cifar10_predict\n",
      " [0 0 0 1 0 0 0 0 0 0 1 0 0 0 0 1 0 0 0 0 0 0 0 0 0 0 1 0 0 0 0 1 1 0 1 0 0\n",
      " 0 1 1 1 1 1 1 1 0 1 0 0 0 0 0 1 1 0 0 0 1 0 0 0 0 0 0 0 1 1 1 0 0 0 0 0 1\n",
      " 0 0 0 1 0 1 0 0 0 0 0 1 0 0 0 0 0 1 0 1 0 0 0 0 1 1 1 1 0 1 1 1 0 1 0 0 1\n",
      " 0 1 0 0 1 1 1 0 0 0 1 0 0 0 0 1 1 1 0 1 0 1 0 0 0 1 0 0 0 0 0 0 0 0 0 0 0\n",
      " 0 1 0 0 0 0 0 1 0 1 1 0 0 1 0 0 1 0 0 0 0 0 1 0 0 1 0 0 0 0 0 0 0 1 1 0 0\n",
      " 1 0 0 0 0 0 0 0 1 1 0 0 0 1 0 0 0 1 0 0 1 0 1 1 1 1 0 0 0 0 0 0 0 0 0 0 0\n",
      " 0 0 1 0 0 0 1 1 0 0 0 1 0 0 0 0 0 1 0 1 0 1 0 1 0 0 0 0 0 1 0 1 0 0 0 1 0\n",
      " 1 1 1 1 1 1 0 0 0 0 1 0 1 0 0 0 0 0 1 0 0 0 0 0 1 0 0 0 1 1 0 1 1 0 1 0 0\n",
      " 0 1 1 0 0 1 1 1 0 0]\n",
      "CIFAR 10 SNN y_cifar10_test\n",
      " [1 1 0 1 0 1 0 1 1 1 1 0 0 0 0 1 1 1 1 0 0 0 1 0 0 0 1 1 1 0 1 0 1 1 0 1 1\n",
      " 0 1 0 1 1 0 1 1 1 1 1 1 0 0 1 1 0 0 1 1 0 0 1 0 1 0 1 1 1 1 0 0 0 1 0 0 0\n",
      " 0 1 1 1 0 1 0 1 0 1 1 1 0 1 0 0 0 0 1 1 0 0 1 0 1 1 0 1 0 0 1 1 0 0 0 1 1\n",
      " 0 0 0 0 0 1 0 0 0 1 1 0 1 1 1 1 0 1 0 0 1 1 0 0 0 1 0 0 1 0 0 0 1 1 1 0 0\n",
      " 0 1 1 1 0 0 1 1 0 0 1 0 1 1 1 0 1 0 1 0 0 0 1 0 1 0 0 0 1 0 1 1 1 1 1 1 1\n",
      " 1 1 0 1 0 0 1 0 1 1 1 1 0 0 0 1 0 1 1 0 1 0 1 0 1 0 1 0 1 0 0 0 0 1 0 1 0\n",
      " 0 0 0 0 1 0 1 1 1 0 0 1 0 0 1 0 1 1 1 0 1 1 0 1 0 0 1 1 0 1 0 0 1 0 0 0 0\n",
      " 1 1 1 0 0 1 0 0 0 1 1 1 0 0 0 1 1 0 1 0 1 0 1 0 1 1 0 0 1 0 0 0 1 0 1 1 0\n",
      " 0 1 0 1 1 0 0 1 0 0]\n",
      "CIFAR 10 SNN Accuracy: 60.130718954248366\n"
     ]
    }
   ],
   "source": [
    "y_cifar10_predict = snn.predict(X_cifar10_test, W_l1_train, b_l1_train, W_l2_train, b_l2_train)\n",
    "print(\"CIFAR 10 SNN y_cifar10_predict\\n\", np.array(y_cifar10_predict))\n",
    "print(\"CIFAR 10 SNN y_cifar10_test\\n\", y_cifar10_test)\n",
    "\n",
    "accuracy_cifar10 = accuracy(y_cifar10_test, y_cifar10_predict)\n",
    "print(\"CIFAR 10 SNN Accuracy:\", accuracy_cifar10)"
   ]
  },
  {
   "cell_type": "markdown",
   "metadata": {},
   "source": [
    "## Part 5: Deep Learning Enhancements"
   ]
  },
  {
   "cell_type": "markdown",
   "metadata": {},
   "source": [
    "To enhance my Shallow Neural Network `MyShallowNeuralNetwork`,  I will implement a training algorithm called Adaptive Moment Estimation (Adam Optimisation) that is combining the ideas from Momentum and RMSprop - from lecture 5. So Adam optimisation includes both velocity and acceleration terms. As a result, Adam optimisation will mainly modify Backprop and Gradient Descent update stages from `MyShallowNeuralNetwork`."
   ]
  },
  {
   "cell_type": "markdown",
   "metadata": {},
   "source": [
    "At back propagation stage, update all `V` and `S` terms.\n",
    "\n",
    "        V_deltaW = (1 - beta1) * deltaW + beta1 * V_deltaW\n",
    "        S_deltaW = (1 - beta2) * deltaW^2 + beta2 * S_deltaW\n",
    "        VC_deltaW = V_deltaW / (1 - beta1^iteration)\n",
    "        SC_deltaW = S_deltaW / (1 - beta2^iteration)\n",
    "        \n",
    "        V_deltab = (1 - beta1) * deltab + beta1 * V_deltab\n",
    "        S_deltab = (1 - beta2) * deltab^2 + beta2 * S_deltab\n",
    "        VC_deltab = V_deltab / (1 - beta1^iteration)\n",
    "        SC_deltab = S_deltab / (1 - beta2^iteration)"
   ]
  },
  {
   "cell_type": "markdown",
   "metadata": {},
   "source": [
    "At Gradient Descent update stage, we update weights `Wji_l` and bias `bj_l` at layer *l*.\n",
    "\n",
    "        Wji_l -= alpha * VC_deltaWji_l / (sqrt(SC_deltaWji_l) + epsilon)\n",
    "        bj_l =-= alpha * VC_deltabj_l / (sqrt(SC_deltabj_l) + epsilon)"
   ]
  },
  {
   "cell_type": "markdown",
   "metadata": {},
   "source": [
    "### Brief Description of Algorithm (Shallow Neural Network with Adam Optimisation)\n",
    "**MyAdamNeuralNetwork.*remove_nested_array***\n",
    "* Check array dimension and reshape the array to convert nested array to flat array\n",
    "\n",
    "**MyAdamNeuralNetwork.*fit*** (updates are in **bold** from `MyShallowNeuralNetwork`)\n",
    "* Set values for `threshold` and hyperparameters `node`, `alpha`, `epoch`\n",
    "    * `node` for the number of nodes in the hidden layer\n",
    "        * if `node` is not given, set `node` to the number of attributes in the input `X`\n",
    "    * `alpha` for learning rate\n",
    "    * `epoch` for the number of epochs for the max number of iterations\n",
    "\n",
    "* Initialise `W` and `b` to a set of small random numbers\n",
    "    * Set `W` and `b` to each layer, i.e. `W_l1`, `W_l2`, `b_l1` and `b1_l2`\n",
    "\n",
    "* **Initialise `V_deltaW_l1`, `V_deltaW_l2`, `V_deltab_l1`, `V_deltab_l2`, `S_deltaW_l1`, `S_deltaW_l2`, `S_deltab_l1`, `S_deltab_l2` to 0s**  \n",
    "\n",
    "* **Initialise `beta1`=0.9 for 'velocity', `beta2`=0.999 for 'acceleration', `epsilon`=e^-8**\n",
    "\n",
    "* Loop until convergence or max number of iterations:\n",
    "    * Select a single example `{X_random_one_train, y_random_one_train}` from training set at random (Stochastic G.D.)\n",
    "    * FORWARD PROPAGATION STAGE\n",
    "        * Calculate output(s) for the training case, and the cost\n",
    "            * Calculate `z_l1` and `a_l1` as shown above with `X_random_one_train`, `W_l1` and `b_l1`\n",
    "            * Calculate `z1_l2` and `a1_l2` as shown above with `a_l1`, `W_l2` and `b1_l2`\n",
    "        * Calculate `J_curr` by `stochastic_cost_function` with correct label `y_random_one_train` and prediction `a1_l2`\n",
    "        * Check convergence by absolute value of `J_curr` being less than `threshold`\n",
    "\n",
    "    * BACK PROPAGATION STAGE\n",
    "        * Propagate the output errors back through the network\n",
    "        * Numerically calculate the derivatives of `W` and `b` w.r.t. the cost\n",
    "        * OUTPUT LAYER\n",
    "            * Calculate `delta_z1_l2`, `delta_W1i_l2` and `delta_b1_l2` as shown above\n",
    "            * **Calculate `V_deltaW_l2`, `S_deltaW_l2`, `VC_deltaW_l2`, `SC_deltaW_l2`, `V_deltab_l2`, `S_deltab_l2`, `VC_deltab_l2`, and `SC_deltab_l2` as shown above**\n",
    "            \n",
    "        * HIDDEN LAYER\n",
    "            * Calculate `delta_zi_l1`, `delta_bj_l1`, and `delta_Wji_l1` as shown above\n",
    "            * **Calculate `V_deltab_l1`, `S_deltab_l1`, `VC_deltab_l1`, `SC_deltab_l1`, `V_deltaW_l1`, `S_deltaW_l1`, `VC_deltaWi_l1`, and `SC_deltaWi_l1` as shown above**\n",
    "        \n",
    "    * STOCHASTIC GRADIENT DESCENT UPDATE STAGE\n",
    "        * Adjust `W` and `b` values in a direction to reduce cost as given by derivatives, by an amount controlled by the learning rate\n",
    "            * Update `W_l1`, `b_l1`, `W_l2` and `b1_l2` as shown above **with `VC_deltaWi_l1`, `SC_deltaWi_l1`, `VC_deltab_l1`, `SC_deltab_l1`, `VC_deltaW_l2`, `SC_deltaW_l2`, `VC_deltab_l2`, `SC_deltab_l2`, and `epsilon`**\n",
    "\n",
    "\n",
    "**MyAdamNeuralNetwork.*predict***\n",
    "* Same as `MyShallowNeuralNetwork.predict`\n",
    "\n",
    "**MyAdamNeuralNetwork.*find_best_index***\n",
    "* Same as `MyShallowNeuralNetwork.find_best_index`\n",
    "\n",
    "**MyAdamNeuralNetwork.*find_hyperparameters***\n",
    "* Same as `MyShallowNeuralNetwork.find_hyperparameters`\n"
   ]
  },
  {
   "cell_type": "code",
   "execution_count": 37,
   "metadata": {},
   "outputs": [],
   "source": [
    "class MyAdamNeuralNetwork:\n",
    "    def remove_nested_array(self, array):\n",
    "        if array.ndim > 1:\n",
    "            return np.reshape(array, array.shape[1])\n",
    "        else:\n",
    "            return np.reshape(array, array.shape[0])\n",
    "\n",
    "    def fit(self, X, y, node=None, alpha=0.2, epoch=10, return_iteration=False, return_cost=False):\n",
    "        # initialisation\n",
    "        one_epoch = len(X)\n",
    "        max_iterations = epoch * one_epoch\n",
    "        # threshold - hard code for now\n",
    "        threshold = 1 * math.exp(-8)\n",
    "        # set small random values of W and b\n",
    "        X_num_feature = X.shape[1]\n",
    "        if node is None:\n",
    "            node = X_num_feature\n",
    "        W_l1 = np.random.normal(0, 0.01, size=(node, X_num_feature))  # small random value matrix in normal distribution for layer l=1\n",
    "        W_l2 = np.random.normal(0, 0.01, size=(1, node))[0]  # small random values for layer l=L=2\n",
    "        b_l1 = np.random.normal(0, 0.01, size=(1, node))[0]  # small random values for layer l=1\n",
    "        b1_l2 = np.random.normal(0, 0.01, size=1)[0]  # small random values for layer l=L=2\n",
    "        # Adam Optimisation Algorithm\n",
    "            # * At start: for each weight W and bias b, initialise all V and S terms to 0\n",
    "        V_deltaW_l1 = np.zeros((node, X_num_feature))\n",
    "        V_deltaW_l2 = np.zeros((1, node))\n",
    "        V_deltab_l1 = np.zeros((1, node))\n",
    "        V_deltab_l2 = 0\n",
    "        S_deltaW_l1 = np.zeros((node, X_num_feature))\n",
    "        S_deltaW_l2 = np.zeros((1, node))\n",
    "        S_deltab_l1 = np.zeros((1, node))\n",
    "        S_deltab_l2 = 0\n",
    "        beta1 = 0.9\n",
    "        beta2 = 0.999\n",
    "        epsilon = 1 * math.exp(-8)\n",
    "        # Loop for max iterations\n",
    "        converged = False\n",
    "        iteration = 0\n",
    "        J_epochs = []\n",
    "        while not converged and iteration < max_iterations:\n",
    "            # single example from training set selected at random (Stochastic Gradient Descent)\n",
    "            # select a random row of X and y\n",
    "            X_copy = X.copy()\n",
    "            y_copy = y.copy()\n",
    "            random_indice = np.random.choice(X_copy.shape[0], size=1, replace=False)\n",
    "            X_random_one_train = X_copy[random_indice, :][0]  # Xj\n",
    "            y_random_one_train = y_copy[random_indice][0]\n",
    "\n",
    "            # Forward Propagation step\n",
    "                # * calculate output(s) for the training case, and the cost\n",
    "            # update W, b, a in l-th layer\n",
    "            # i-th node in layer l=1\n",
    "            z_l1 = []\n",
    "            a_l1 = []\n",
    "            for i in range(node):\n",
    "                Wi_l1 = W_l1[i]\n",
    "                bi_l1 = b_l1[i]\n",
    "                zi_l1 = X_random_one_train.dot(Wi_l1) + bi_l1\n",
    "                z_l1.append(zi_l1)\n",
    "                a_l1.append(sigmoid(zi_l1))  # activation function = Logistic = Sigmoid function\n",
    "            # node 1 layer l=L=2\n",
    "            z1_l2 = W_l2.dot(a_l1) + b1_l2\n",
    "            a1_l2 = sigmoid(z1_l2)  # y_hat: prediction\n",
    "            J_curr = stochastic_cost_function(y_random_one_train, a1_l2)\n",
    "            if iteration % one_epoch == 0:  # every multiply of one_epoch size\n",
    "                J_epochs.append(J_curr)\n",
    "            if iteration > 1 and abs(J_curr) < threshold:\n",
    "                converged = True\n",
    "\n",
    "            # Back Propagation step - Adam Optimisation Algorithm\n",
    "            iteration += 1 # update iteration here to make the first iteration = 1 not 0\n",
    "            delta_z1_l2 = a1_l2 - y_random_one_train\n",
    "            delta_W1i_l2 = delta_z1_l2 * np.array(a_l1)  # numpy multiply by scalar\n",
    "            # Adam\n",
    "            V_deltaW_l2 = (1 - beta1) * delta_W1i_l2 + beta1 * V_deltaW_l2\n",
    "            V_deltaW_l2 = self.remove_nested_array(V_deltaW_l2)\n",
    "            S_deltaW_l2 = (1 - beta2) * np.power(delta_W1i_l2, 2) + beta2 * S_deltaW_l2 # numpy element-wise power\n",
    "            S_deltaW_l2 = self.remove_nested_array(S_deltaW_l2)\n",
    "            VC_deltaW_l2 =  V_deltaW_l2 / (1 - beta1 ** iteration) # numpy divide\n",
    "            SC_deltaW_l2 = S_deltaW_l2 / (1 - beta2 ** iteration)\n",
    "\n",
    "            delta_b1_l2 = delta_z1_l2\n",
    "            # Adam\n",
    "            V_deltab_l2 = (1 - beta1) * delta_b1_l2 + beta1 * V_deltab_l2\n",
    "            S_deltab_l2 = (1 - beta2) * np.power(delta_b1_l2, 2) + beta2 * S_deltab_l2 # numpy element-wise power\n",
    "            VC_deltab_l2 = V_deltab_l2 / (1 - beta1 ** iteration)\n",
    "            SC_deltab_l2 = S_deltab_l2 / (1 - beta2 ** iteration)\n",
    "\n",
    "            # hidden layer\n",
    "            delta_zi_l1 = np.multiply(sigmoid_derivative(np.array(z_l1)), W_l2) * delta_z1_l2  # numpy element-wise multiply\n",
    "            delta_bj_l1 = delta_zi_l1\n",
    "            # Adam - similar to the layer 2\n",
    "            V_deltab_l1 = (1 - beta1) * delta_bj_l1 + beta1 * V_deltab_l1\n",
    "            V_deltab_l1 = self.remove_nested_array(V_deltab_l1)\n",
    "            S_deltab_l1 = (1 - beta2) * np.power(delta_bj_l1, 2) + beta2 * S_deltab_l1\n",
    "            S_deltab_l1 = self.remove_nested_array(S_deltab_l1)\n",
    "            VC_deltab_l1 = V_deltab_l1 / (1 - beta1 ** iteration)\n",
    "            SC_deltab_l1 = S_deltab_l1 / (1 - beta2 ** iteration)\n",
    "\n",
    "            for i in range(node):\n",
    "                delta_Wji_l1 = delta_zi_l1[i] * X_random_one_train\n",
    "                # Adam\n",
    "                V_deltaW_l1[i] = (1 - beta1) * delta_Wji_l1 + beta1 * V_deltaW_l1[i]\n",
    "                S_deltaW_l1[i] = (1 - beta2) * np.power(delta_Wji_l1, 2) + beta2 * S_deltaW_l1[i]\n",
    "                VC_deltaWi_l1 = V_deltaW_l1[i] / (1 - beta1 ** iteration)\n",
    "                SC_deltaWi_l1 = S_deltaW_l1[i] / (1 - beta2 ** iteration)\n",
    "                \n",
    "                # Stochastic Gradient Descent Update step - Adam Optimisation - for next four lines\n",
    "                W_l1[i] -= alpha * VC_deltaWi_l1 / (np.sqrt(SC_deltaWi_l1) + epsilon) # numpy element-wise sqrt\n",
    "            b_l1 -= alpha * VC_deltab_l1 / (np.sqrt(SC_deltab_l1) + epsilon)\n",
    "            W_l2 -= alpha * VC_deltaW_l2 / (np.sqrt(SC_deltaW_l2) + epsilon)\n",
    "            b1_l2 -= alpha * VC_deltab_l2 / (np.sqrt(SC_deltab_l2) + epsilon)\n",
    "\n",
    "        if return_iteration and return_cost:\n",
    "            return W_l1, b_l1, W_l2, b1_l2, iteration, J_epochs\n",
    "        elif return_iteration:\n",
    "            return W_l1, b_l1, W_l2, b1_l2, iteration\n",
    "        elif return_cost:\n",
    "            return W_l1, b_l1, W_l2, b1_l2, J_epochs\n",
    "        else:\n",
    "            return W_l1, b_l1, W_l2, b1_l2\n",
    "\n",
    "    def predict(self, X, W_l1, b_l1, W_l2, b1_l2):\n",
    "        y_hat = []\n",
    "        for Xj in X:\n",
    "            # i-th node in layer l=1\n",
    "            ai_l1 = []\n",
    "            for i in range(W_l1.shape[0]):  # the number of nodes in hidden layer\n",
    "                Wi_l1 = W_l1[i]\n",
    "                bi_l1 = b_l1[i]\n",
    "                zi_l1 = Xj.dot(Wi_l1) + bi_l1  # numpy dot\n",
    "                ai_l1.append(sigmoid(zi_l1))  # activation function = Logistic = Sigmoid function\n",
    "            # node 1 layer l=L=2\n",
    "            z1_l2 = W_l2.dot(ai_l1) + b1_l2\n",
    "            yj_hat = sigmoid(z1_l2)  # a1_l2\n",
    "            y_hat.append(yj_hat)\n",
    "        y_predict = [(lambda i: 0 if i < 0.5 else 1)(i) for i in y_hat]  # 0 if y_hat < 0.5 else 1\n",
    "        return y_predict\n",
    "\n",
    "    def find_best_index(self, accuracy_list, iteration_list):\n",
    "        max_accuracy_indices = np.argwhere(accuracy_list == np.amax(accuracy_list))  # find index of max\n",
    "        max_accuracy_indices = np.reshape(max_accuracy_indices, len(max_accuracy_indices))  # double list to flat list\n",
    "        max_accuracy_indices = max_accuracy_indices.tolist()  # numpy to list\n",
    "        iteration_list = np.array(iteration_list)  # get elements by index list\n",
    "        min_iteration_indices = np.argwhere(iteration_list == np.amin(list(np.array(iteration_list[max_accuracy_indices]))))  # get elements by index list\n",
    "        return min_iteration_indices[0][0]\n",
    "\n",
    "    def find_hyperparameters(self, X, y, X_validation, y_validation, nodes=[1, 2, 3, 4, 5], alphas=[0.0005, 0.001, 0.003, 0.005, 0.01, 0.03, 0.05, 0.1], epochs=[1, 5, 10, 50, 100, 200]):\n",
    "        accuracy_for_nodes = []\n",
    "        iteration_for_nodes = []\n",
    "        best_alpha_for_nodes = []\n",
    "        best_epoch_for_nodes = []\n",
    "        for node in nodes:\n",
    "            accuracy_for_alphas = []\n",
    "            iteration_for_alphas = []\n",
    "            best_epoch_for_alphas = []\n",
    "            for alpha in alphas:\n",
    "                accuracy_for_epochs = []\n",
    "                iteration_for_epochs = []\n",
    "                for epoch in epochs:\n",
    "                    W_l1, b_l1, W_l2, b1_l2, iteration = self.fit(X, y, node, alpha, epoch, return_iteration=True)\n",
    "                    y_predict = self.predict(X_validation, W_l1, b_l1, W_l2, b1_l2)\n",
    "                    prediction_accuracy = accuracy(y_validation, y_predict)\n",
    "                    accuracy_for_epochs.append(prediction_accuracy)\n",
    "                    iteration_for_epochs.append(iteration)\n",
    "                # find the best epoch for each alpha\n",
    "                best_epoch_index = self.find_best_index(accuracy_for_epochs, iteration_for_epochs)\n",
    "\n",
    "                accuracy_for_alphas.append(accuracy_for_epochs[best_epoch_index])\n",
    "                iteration_for_alphas.append(iteration_for_epochs[best_epoch_index])\n",
    "                best_epoch_for_alphas.append(epochs[best_epoch_index])\n",
    "            # find the best alpha\n",
    "            best_alpha_index = self.find_best_index(accuracy_for_alphas, iteration_for_alphas)\n",
    "\n",
    "            accuracy_for_nodes.append(accuracy_for_alphas[best_alpha_index])\n",
    "            iteration_for_nodes.append(iteration_for_alphas[best_alpha_index])\n",
    "            best_alpha_for_nodes.append(alphas[best_alpha_index])\n",
    "            best_epoch_for_nodes.append(best_epoch_for_alphas[best_alpha_index])\n",
    "        # find the best node\n",
    "        best_node_index = self.find_best_index(accuracy_for_nodes, iteration_for_nodes)\n",
    "        return nodes[best_node_index], best_alpha_for_nodes[best_node_index], best_epoch_for_nodes[best_node_index]"
   ]
  },
  {
   "cell_type": "markdown",
   "metadata": {},
   "source": [
    "Similar to Part 4, we find the best hyperparameters by `MyAdamNeuralNetwork.find_hyperparameters`. Again, I set the node list to \\[1, 10, 1024\\] as mentioned in lecture 4 that one input node for each of pixels in Neural Network. Also, this Shallow Neural Network with Adam optimisation `MyAdamNeuralNetwork` tends to peform better at low learning rates, `alpha`. Therefore, I set the alpha list to \\[0.0005, 0.001, 0.002\\] in this task.\n",
    "\n",
    "Again, the results of the cost function over the number of epochs `J_epochs` are taken at the end of every epoch (not averaged out!). Therefore, the graph looks noisy since we calculate a single case each iteration, aka Stochastic Gradient Descent. We will always get some that are high values, because these are the cases that are hard to classify, while the results should converge to 0 over time."
   ]
  },
  {
   "cell_type": "code",
   "execution_count": 38,
   "metadata": {},
   "outputs": [
    {
     "name": "stdout",
     "output_type": "stream",
     "text": [
      "CIFAR 10 Adam NN node: 10\n",
      "CIFAR 10 Adam NN alpha: 0.001\n",
      "CIFAR 10 Adam NN epoch: 200\n"
     ]
    },
    {
     "data": {
      "image/png": "[encoded data removed]",
      "text/plain": [
       "<Figure size 432x288 with 1 Axes>"
      ]
     },
     "metadata": {
      "needs_background": "light"
     },
     "output_type": "display_data"
    }
   ],
   "source": [
    "ann = MyAdamNeuralNetwork()\n",
    "\n",
    "ann_node_cifar10, ann_alpha_cifar10, ann_epoch_cifar10 = ann.find_hyperparameters(X_cifar10_train, y_cifar10_train, X_cifar10_validation, y_cifar10_validation, nodes=[1, 10, 1024], alphas=[0.0005, 0.001, 0.002], epochs=[10, 100, 200])\n",
    "print(\"CIFAR 10 Adam NN node:\", ann_node_cifar10)\n",
    "print(\"CIFAR 10 Adam NN alpha:\", ann_alpha_cifar10)\n",
    "print(\"CIFAR 10 Adam NN epoch:\", ann_epoch_cifar10)\n",
    "\n",
    "W_l1_train, b_l1_train, W_l2_train, b_l2_train, J_epochs = ann.fit(X_cifar10_train, y_cifar10_train, node=ann_node_cifar10, alpha=ann_alpha_cifar10, epoch=ann_epoch_cifar10, return_cost=True)\n",
    "\n",
    "if len(J_epochs) > 1:\n",
    "    plt.plot(J_epochs)\n",
    "    plt.show()"
   ]
  },
  {
   "cell_type": "markdown",
   "metadata": {},
   "source": [
    "The prediction results of the normalised testing datasets `X_cifar10_test` with the weights `W_l1_train` and `W_l2_train` and biases `b_l1_train` and `b_l2_train` found by `MyAdamNeuralNetwork` with training dataset are shown below. \n",
    "\n",
    "The trained model by `MyAdamNeuralNetwork` predicts two classes similar to `MyShallowNeuralNetwork` but it is still not too close to 100% on the test set for *cifar10*. To improve the performance of Neural Network, `accuracy_cifar10`, more training data or more complex hidden layers or Batch/Mini-Batch Gradient Descent can help.\n",
    "\n",
    "In the meantime, `MyAdamNeuralNetwork` improved the speed of the performance, i.e. faster learning overall. For example, modeling a Neural Network with *cifar10* datasets took about 100 epochs in `MyShallowNeuralNetwork` but about 80 epochs in `MyAdamNeuralNetwork` from the training graphs. Also as mentioned earlier, `MyAdamNeuralNetwork` can perform at lower learning rate `alpha` but the performance can be still better than `MyShallowNeuralNetwork`. This is because Adam optimisation is able to change at a rate appropriate to itself, rather than one fixed learning rate. In other words, the previous changes in parameter values should influence the current direction of updates like Backprop with Momentum. "
   ]
  },
  {
   "cell_type": "code",
   "execution_count": 39,
   "metadata": {},
   "outputs": [
    {
     "name": "stdout",
     "output_type": "stream",
     "text": [
      "CIFAR 10 Adam NN y_cifar10_predict\n",
      " [1 1 1 1 0 0 0 0 0 1 1 0 0 0 0 1 1 0 1 0 0 0 0 0 0 0 1 1 0 0 1 1 1 0 0 1 0\n",
      " 1 1 0 1 0 1 1 1 1 1 0 0 0 0 1 0 0 0 1 0 1 0 0 0 0 0 0 0 1 1 1 0 0 0 1 0 1\n",
      " 0 1 0 1 0 1 0 0 0 0 1 1 0 0 0 1 0 1 0 1 0 1 1 0 1 1 1 1 0 0 1 1 0 1 0 0 0\n",
      " 0 1 0 1 1 1 1 1 1 1 0 0 0 0 0 1 0 1 1 0 0 0 1 0 0 0 0 0 0 0 0 0 1 0 0 0 0\n",
      " 1 0 0 0 0 0 1 1 0 1 1 0 1 1 1 0 1 0 0 0 0 1 1 0 0 1 0 1 0 0 0 1 1 0 1 1 0\n",
      " 0 0 0 0 0 0 0 0 1 1 1 1 0 1 0 0 0 1 0 0 1 0 1 1 1 1 0 0 1 0 0 0 0 0 0 0 0\n",
      " 1 0 1 0 0 0 1 1 0 0 0 1 1 1 0 0 1 1 0 1 0 1 1 0 0 0 1 1 1 1 1 1 0 1 0 1 0\n",
      " 1 1 1 1 1 1 0 0 0 1 1 1 0 0 0 1 1 1 1 0 0 0 0 0 1 0 1 0 1 1 1 1 1 0 1 1 1\n",
      " 0 1 0 1 0 1 1 1 0 0]\n",
      "CIFAR 10 Adam NN y_cifar10_test\n",
      " [1 1 0 1 0 1 0 1 1 1 1 0 0 0 0 1 1 1 1 0 0 0 1 0 0 0 1 1 1 0 1 0 1 1 0 1 1\n",
      " 0 1 0 1 1 0 1 1 1 1 1 1 0 0 1 1 0 0 1 1 0 0 1 0 1 0 1 1 1 1 0 0 0 1 0 0 0\n",
      " 0 1 1 1 0 1 0 1 0 1 1 1 0 1 0 0 0 0 1 1 0 0 1 0 1 1 0 1 0 0 1 1 0 0 0 1 1\n",
      " 0 0 0 0 0 1 0 0 0 1 1 0 1 1 1 1 0 1 0 0 1 1 0 0 0 1 0 0 1 0 0 0 1 1 1 0 0\n",
      " 0 1 1 1 0 0 1 1 0 0 1 0 1 1 1 0 1 0 1 0 0 0 1 0 1 0 0 0 1 0 1 1 1 1 1 1 1\n",
      " 1 1 0 1 0 0 1 0 1 1 1 1 0 0 0 1 0 1 1 0 1 0 1 0 1 0 1 0 1 0 0 0 0 1 0 1 0\n",
      " 0 0 0 0 1 0 1 1 1 0 0 1 0 0 1 0 1 1 1 0 1 1 0 1 0 0 1 1 0 1 0 0 1 0 0 0 0\n",
      " 1 1 1 0 0 1 0 0 0 1 1 1 0 0 0 1 1 0 1 0 1 0 1 0 1 1 0 0 1 0 0 0 1 0 1 1 0\n",
      " 0 1 0 1 1 0 0 1 0 0]\n",
      "CIFAR 10 Adam NN Accuracy: 62.745098039215684\n"
     ]
    }
   ],
   "source": [
    "y_cifar10_predict = ann.predict(X_cifar10_test, W_l1_train, b_l1_train, W_l2_train, b_l2_train)\n",
    "print(\"CIFAR 10 Adam NN y_cifar10_predict\\n\", np.array(y_cifar10_predict))\n",
    "print(\"CIFAR 10 Adam NN y_cifar10_test\\n\", y_cifar10_test)\n",
    "\n",
    "accuracy_cifar10 = accuracy(y_cifar10_test, y_cifar10_predict)\n",
    "print(\"CIFAR 10 Adam NN Accuracy:\", accuracy_cifar10)"
   ]
  }
 ],
 "metadata": {
  "kernelspec": {
   "display_name": "Python 3",
   "language": "python",
   "name": "python3"
  },
  "language_info": {
   "codemirror_mode": {
    "name": "ipython",
    "version": 3
   },
   "file_extension": ".py",
   "mimetype": "text/x-python",
   "name": "python",
   "nbconvert_exporter": "python",
   "pygments_lexer": "ipython3",
   "version": "3.7.4"
  }
 },
 "nbformat": 4,
 "nbformat_minor": 2
}
